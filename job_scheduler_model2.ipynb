{
 "cells": [
  {
   "cell_type": "code",
   "execution_count": 6,
   "id": "a44d33cf",
   "metadata": {},
   "outputs": [],
   "source": [
    "import numpy as np\n",
    "import pandas as pd"
   ]
  },
  {
   "cell_type": "code",
   "execution_count": 7,
   "id": "ce5bd702",
   "metadata": {},
   "outputs": [],
   "source": [
    "pd.set_option('display.max_columns', None)\n",
    "#显示所有行\n",
    "pd.set_option('display.max_rows', None)\n",
    "#设置value的显示长度为100，默认为50\n",
    "pd.set_option('max_colwidth',200)\n",
    "\n",
    "np.set_printoptions(threshold=np.inf)"
   ]
  },
  {
   "cell_type": "code",
   "execution_count": 8,
   "id": "f544a7fd",
   "metadata": {},
   "outputs": [],
   "source": [
    "#data_df=pd.read_csv('./inputs/data_v1.csv', index_col=0)\n",
    "#data_df=pd.read_csv('./inputs/data_v1.csv', index_col=0)\n",
    "data_df=pd.read_csv('./inputs/data_v3_2.csv', index_col=0)"
   ]
  },
  {
   "cell_type": "code",
   "execution_count": 9,
   "id": "da6ea96b",
   "metadata": {},
   "outputs": [],
   "source": [
    "#data_df=data_df.iloc[0:1000]"
   ]
  },
  {
   "cell_type": "code",
   "execution_count": 10,
   "id": "f85b9e96",
   "metadata": {
    "scrolled": true
   },
   "outputs": [
    {
     "data": {
      "text/html": [
       "<div>\n",
       "<style scoped>\n",
       "    .dataframe tbody tr th:only-of-type {\n",
       "        vertical-align: middle;\n",
       "    }\n",
       "\n",
       "    .dataframe tbody tr th {\n",
       "        vertical-align: top;\n",
       "    }\n",
       "\n",
       "    .dataframe thead th {\n",
       "        text-align: right;\n",
       "    }\n",
       "</style>\n",
       "<table border=\"1\" class=\"dataframe\">\n",
       "  <thead>\n",
       "    <tr style=\"text-align: right;\">\n",
       "      <th></th>\n",
       "      <th>YieldScopePriority_X</th>\n",
       "      <th>YieldScopePriority_Y</th>\n",
       "      <th>IsYieldForEnabled</th>\n",
       "      <th>IsYieldedEnabled</th>\n",
       "      <th>TokenAllocation</th>\n",
       "      <th>QuotaTokens</th>\n",
       "      <th>TotalWaitingTimeInMins</th>\n",
       "      <th>EstimatedRemainingRunningTimeInMins</th>\n",
       "      <th>IsQuotaFullyLoad</th>\n",
       "      <th>WhetherHasSLA</th>\n",
       "      <th>Priority</th>\n",
       "    </tr>\n",
       "  </thead>\n",
       "  <tbody>\n",
       "    <tr>\n",
       "      <th>0</th>\n",
       "      <td>1.0</td>\n",
       "      <td>0.0</td>\n",
       "      <td>1</td>\n",
       "      <td>1</td>\n",
       "      <td>190</td>\n",
       "      <td>10687</td>\n",
       "      <td>0.950718</td>\n",
       "      <td>360</td>\n",
       "      <td>0</td>\n",
       "      <td>0</td>\n",
       "      <td>70</td>\n",
       "    </tr>\n",
       "    <tr>\n",
       "      <th>1</th>\n",
       "      <td>NaN</td>\n",
       "      <td>NaN</td>\n",
       "      <td>1</td>\n",
       "      <td>1</td>\n",
       "      <td>4000</td>\n",
       "      <td>14572</td>\n",
       "      <td>165.389673</td>\n",
       "      <td>360</td>\n",
       "      <td>1</td>\n",
       "      <td>1</td>\n",
       "      <td>137</td>\n",
       "    </tr>\n",
       "    <tr>\n",
       "      <th>2</th>\n",
       "      <td>NaN</td>\n",
       "      <td>NaN</td>\n",
       "      <td>1</td>\n",
       "      <td>1</td>\n",
       "      <td>400</td>\n",
       "      <td>2150</td>\n",
       "      <td>86.818160</td>\n",
       "      <td>360</td>\n",
       "      <td>0</td>\n",
       "      <td>0</td>\n",
       "      <td>130</td>\n",
       "    </tr>\n",
       "    <tr>\n",
       "      <th>3</th>\n",
       "      <td>2.0</td>\n",
       "      <td>0.0</td>\n",
       "      <td>1</td>\n",
       "      <td>1</td>\n",
       "      <td>50</td>\n",
       "      <td>29125</td>\n",
       "      <td>0.675911</td>\n",
       "      <td>360</td>\n",
       "      <td>0</td>\n",
       "      <td>1</td>\n",
       "      <td>81</td>\n",
       "    </tr>\n",
       "    <tr>\n",
       "      <th>4</th>\n",
       "      <td>1.0</td>\n",
       "      <td>0.0</td>\n",
       "      <td>1</td>\n",
       "      <td>1</td>\n",
       "      <td>190</td>\n",
       "      <td>10687</td>\n",
       "      <td>52.082043</td>\n",
       "      <td>360</td>\n",
       "      <td>1</td>\n",
       "      <td>0</td>\n",
       "      <td>94</td>\n",
       "    </tr>\n",
       "  </tbody>\n",
       "</table>\n",
       "</div>"
      ],
      "text/plain": [
       "   YieldScopePriority_X  YieldScopePriority_Y  IsYieldForEnabled  \\\n",
       "0                   1.0                   0.0                  1   \n",
       "1                   NaN                   NaN                  1   \n",
       "2                   NaN                   NaN                  1   \n",
       "3                   2.0                   0.0                  1   \n",
       "4                   1.0                   0.0                  1   \n",
       "\n",
       "   IsYieldedEnabled  TokenAllocation  QuotaTokens  TotalWaitingTimeInMins  \\\n",
       "0                 1              190        10687                0.950718   \n",
       "1                 1             4000        14572              165.389673   \n",
       "2                 1              400         2150               86.818160   \n",
       "3                 1               50        29125                0.675911   \n",
       "4                 1              190        10687               52.082043   \n",
       "\n",
       "   EstimatedRemainingRunningTimeInMins  IsQuotaFullyLoad  WhetherHasSLA  \\\n",
       "0                                  360                 0              0   \n",
       "1                                  360                 1              1   \n",
       "2                                  360                 0              0   \n",
       "3                                  360                 0              1   \n",
       "4                                  360                 1              0   \n",
       "\n",
       "   Priority  \n",
       "0        70  \n",
       "1       137  \n",
       "2       130  \n",
       "3        81  \n",
       "4        94  "
      ]
     },
     "execution_count": 10,
     "metadata": {},
     "output_type": "execute_result"
    }
   ],
   "source": [
    "data_df.head()"
   ]
  },
  {
   "cell_type": "code",
   "execution_count": 11,
   "id": "78032ff6",
   "metadata": {},
   "outputs": [
    {
     "data": {
      "text/html": [
       "<div>\n",
       "<style scoped>\n",
       "    .dataframe tbody tr th:only-of-type {\n",
       "        vertical-align: middle;\n",
       "    }\n",
       "\n",
       "    .dataframe tbody tr th {\n",
       "        vertical-align: top;\n",
       "    }\n",
       "\n",
       "    .dataframe thead th {\n",
       "        text-align: right;\n",
       "    }\n",
       "</style>\n",
       "<table border=\"1\" class=\"dataframe\">\n",
       "  <thead>\n",
       "    <tr style=\"text-align: right;\">\n",
       "      <th></th>\n",
       "      <th>YieldScopePriority_X</th>\n",
       "      <th>YieldScopePriority_Y</th>\n",
       "      <th>IsYieldForEnabled</th>\n",
       "      <th>IsYieldedEnabled</th>\n",
       "      <th>TokenAllocation</th>\n",
       "      <th>QuotaTokens</th>\n",
       "      <th>TotalWaitingTimeInMins</th>\n",
       "      <th>EstimatedRemainingRunningTimeInMins</th>\n",
       "      <th>IsQuotaFullyLoad</th>\n",
       "      <th>WhetherHasSLA</th>\n",
       "      <th>Priority</th>\n",
       "    </tr>\n",
       "  </thead>\n",
       "  <tbody>\n",
       "    <tr>\n",
       "      <th>0</th>\n",
       "      <td>1.0</td>\n",
       "      <td>0.0</td>\n",
       "      <td>1</td>\n",
       "      <td>1</td>\n",
       "      <td>190</td>\n",
       "      <td>10687</td>\n",
       "      <td>0.950718</td>\n",
       "      <td>360</td>\n",
       "      <td>0</td>\n",
       "      <td>0</td>\n",
       "      <td>70</td>\n",
       "    </tr>\n",
       "    <tr>\n",
       "      <th>1</th>\n",
       "      <td>NaN</td>\n",
       "      <td>NaN</td>\n",
       "      <td>1</td>\n",
       "      <td>1</td>\n",
       "      <td>4000</td>\n",
       "      <td>14572</td>\n",
       "      <td>165.389673</td>\n",
       "      <td>360</td>\n",
       "      <td>1</td>\n",
       "      <td>1</td>\n",
       "      <td>137</td>\n",
       "    </tr>\n",
       "    <tr>\n",
       "      <th>2</th>\n",
       "      <td>NaN</td>\n",
       "      <td>NaN</td>\n",
       "      <td>1</td>\n",
       "      <td>1</td>\n",
       "      <td>400</td>\n",
       "      <td>2150</td>\n",
       "      <td>86.818160</td>\n",
       "      <td>360</td>\n",
       "      <td>0</td>\n",
       "      <td>0</td>\n",
       "      <td>130</td>\n",
       "    </tr>\n",
       "    <tr>\n",
       "      <th>3</th>\n",
       "      <td>2.0</td>\n",
       "      <td>0.0</td>\n",
       "      <td>1</td>\n",
       "      <td>1</td>\n",
       "      <td>50</td>\n",
       "      <td>29125</td>\n",
       "      <td>0.675911</td>\n",
       "      <td>360</td>\n",
       "      <td>0</td>\n",
       "      <td>1</td>\n",
       "      <td>81</td>\n",
       "    </tr>\n",
       "    <tr>\n",
       "      <th>4</th>\n",
       "      <td>1.0</td>\n",
       "      <td>0.0</td>\n",
       "      <td>1</td>\n",
       "      <td>1</td>\n",
       "      <td>190</td>\n",
       "      <td>10687</td>\n",
       "      <td>52.082043</td>\n",
       "      <td>360</td>\n",
       "      <td>1</td>\n",
       "      <td>0</td>\n",
       "      <td>94</td>\n",
       "    </tr>\n",
       "  </tbody>\n",
       "</table>\n",
       "</div>"
      ],
      "text/plain": [
       "   YieldScopePriority_X  YieldScopePriority_Y  IsYieldForEnabled  \\\n",
       "0                   1.0                   0.0                  1   \n",
       "1                   NaN                   NaN                  1   \n",
       "2                   NaN                   NaN                  1   \n",
       "3                   2.0                   0.0                  1   \n",
       "4                   1.0                   0.0                  1   \n",
       "\n",
       "   IsYieldedEnabled  TokenAllocation  QuotaTokens  TotalWaitingTimeInMins  \\\n",
       "0                 1              190        10687                0.950718   \n",
       "1                 1             4000        14572              165.389673   \n",
       "2                 1              400         2150               86.818160   \n",
       "3                 1               50        29125                0.675911   \n",
       "4                 1              190        10687               52.082043   \n",
       "\n",
       "   EstimatedRemainingRunningTimeInMins  IsQuotaFullyLoad  WhetherHasSLA  \\\n",
       "0                                  360                 0              0   \n",
       "1                                  360                 1              1   \n",
       "2                                  360                 0              0   \n",
       "3                                  360                 0              1   \n",
       "4                                  360                 1              0   \n",
       "\n",
       "   Priority  \n",
       "0        70  \n",
       "1       137  \n",
       "2       130  \n",
       "3        81  \n",
       "4        94  "
      ]
     },
     "execution_count": 11,
     "metadata": {},
     "output_type": "execute_result"
    }
   ],
   "source": [
    "data_df = data_df[\n",
    "    ['YieldScopePriority_X', 'YieldScopePriority_Y', 'IsYieldForEnabled', 'IsYieldedEnabled', 'TokenAllocation',\n",
    "     'QuotaTokens', 'TotalWaitingTimeInMins', 'EstimatedRemainingRunningTimeInMins', 'IsQuotaFullyLoad',\n",
    "     'WhetherHasSLA', 'Priority']]\n",
    "data_df.head()"
   ]
  },
  {
   "cell_type": "code",
   "execution_count": 12,
   "id": "cbd1b9d8",
   "metadata": {},
   "outputs": [
    {
     "name": "stdout",
     "output_type": "stream",
     "text": [
      "<class 'pandas.core.frame.DataFrame'>\n",
      "Int64Index: 1000 entries, 0 to 999\n",
      "Data columns (total 11 columns):\n",
      " #   Column                               Non-Null Count  Dtype  \n",
      "---  ------                               --------------  -----  \n",
      " 0   YieldScopePriority_X                 574 non-null    float64\n",
      " 1   YieldScopePriority_Y                 571 non-null    float64\n",
      " 2   IsYieldForEnabled                    1000 non-null   int64  \n",
      " 3   IsYieldedEnabled                     1000 non-null   int64  \n",
      " 4   TokenAllocation                      1000 non-null   int64  \n",
      " 5   QuotaTokens                          1000 non-null   int64  \n",
      " 6   TotalWaitingTimeInMins               1000 non-null   float64\n",
      " 7   EstimatedRemainingRunningTimeInMins  1000 non-null   int64  \n",
      " 8   IsQuotaFullyLoad                     1000 non-null   int64  \n",
      " 9   WhetherHasSLA                        1000 non-null   int64  \n",
      " 10  Priority                             1000 non-null   int64  \n",
      "dtypes: float64(3), int64(8)\n",
      "memory usage: 93.8 KB\n"
     ]
    }
   ],
   "source": [
    "data_df.info()"
   ]
  },
  {
   "cell_type": "code",
   "execution_count": 13,
   "id": "a3357bcd",
   "metadata": {},
   "outputs": [
    {
     "data": {
      "text/plain": [
       "<AxesSubplot:>"
      ]
     },
     "execution_count": 13,
     "metadata": {},
     "output_type": "execute_result"
    },
    {
     "data": {
      "image/png": "[encoded data removed]",
      "text/plain": [
       "<Figure size 432x288 with 1 Axes>"
      ]
     },
     "metadata": {
      "needs_background": "light"
     },
     "output_type": "display_data"
    }
   ],
   "source": [
    "data_df['Priority'].hist(bins=30)"
   ]
  },
  {
   "cell_type": "code",
   "execution_count": 14,
   "id": "9bd8dfcf",
   "metadata": {},
   "outputs": [
    {
     "data": {
      "text/html": [
       "<div>\n",
       "<style scoped>\n",
       "    .dataframe tbody tr th:only-of-type {\n",
       "        vertical-align: middle;\n",
       "    }\n",
       "\n",
       "    .dataframe tbody tr th {\n",
       "        vertical-align: top;\n",
       "    }\n",
       "\n",
       "    .dataframe thead th {\n",
       "        text-align: right;\n",
       "    }\n",
       "</style>\n",
       "<table border=\"1\" class=\"dataframe\">\n",
       "  <thead>\n",
       "    <tr style=\"text-align: right;\">\n",
       "      <th></th>\n",
       "      <th>YieldScopePriority_X</th>\n",
       "      <th>YieldScopePriority_Y</th>\n",
       "      <th>IsYieldForEnabled</th>\n",
       "      <th>IsYieldedEnabled</th>\n",
       "      <th>TokenAllocation</th>\n",
       "      <th>QuotaTokens</th>\n",
       "      <th>TotalWaitingTimeInMins</th>\n",
       "      <th>EstimatedRemainingRunningTimeInMins</th>\n",
       "      <th>IsQuotaFullyLoad</th>\n",
       "      <th>WhetherHasSLA</th>\n",
       "      <th>Priority</th>\n",
       "    </tr>\n",
       "  </thead>\n",
       "  <tbody>\n",
       "    <tr>\n",
       "      <th>0</th>\n",
       "      <td>1.0</td>\n",
       "      <td>0.0</td>\n",
       "      <td>1</td>\n",
       "      <td>1</td>\n",
       "      <td>190</td>\n",
       "      <td>10687</td>\n",
       "      <td>0.950718</td>\n",
       "      <td>360</td>\n",
       "      <td>0</td>\n",
       "      <td>0</td>\n",
       "      <td>70</td>\n",
       "    </tr>\n",
       "    <tr>\n",
       "      <th>1</th>\n",
       "      <td>NaN</td>\n",
       "      <td>NaN</td>\n",
       "      <td>1</td>\n",
       "      <td>1</td>\n",
       "      <td>4000</td>\n",
       "      <td>14572</td>\n",
       "      <td>165.389673</td>\n",
       "      <td>360</td>\n",
       "      <td>1</td>\n",
       "      <td>1</td>\n",
       "      <td>137</td>\n",
       "    </tr>\n",
       "    <tr>\n",
       "      <th>2</th>\n",
       "      <td>NaN</td>\n",
       "      <td>NaN</td>\n",
       "      <td>1</td>\n",
       "      <td>1</td>\n",
       "      <td>400</td>\n",
       "      <td>2150</td>\n",
       "      <td>86.818160</td>\n",
       "      <td>360</td>\n",
       "      <td>0</td>\n",
       "      <td>0</td>\n",
       "      <td>130</td>\n",
       "    </tr>\n",
       "    <tr>\n",
       "      <th>3</th>\n",
       "      <td>2.0</td>\n",
       "      <td>0.0</td>\n",
       "      <td>1</td>\n",
       "      <td>1</td>\n",
       "      <td>50</td>\n",
       "      <td>29125</td>\n",
       "      <td>0.675911</td>\n",
       "      <td>360</td>\n",
       "      <td>0</td>\n",
       "      <td>1</td>\n",
       "      <td>81</td>\n",
       "    </tr>\n",
       "    <tr>\n",
       "      <th>4</th>\n",
       "      <td>1.0</td>\n",
       "      <td>0.0</td>\n",
       "      <td>1</td>\n",
       "      <td>1</td>\n",
       "      <td>190</td>\n",
       "      <td>10687</td>\n",
       "      <td>52.082043</td>\n",
       "      <td>360</td>\n",
       "      <td>1</td>\n",
       "      <td>0</td>\n",
       "      <td>94</td>\n",
       "    </tr>\n",
       "  </tbody>\n",
       "</table>\n",
       "</div>"
      ],
      "text/plain": [
       "   YieldScopePriority_X  YieldScopePriority_Y  IsYieldForEnabled  \\\n",
       "0                   1.0                   0.0                  1   \n",
       "1                   NaN                   NaN                  1   \n",
       "2                   NaN                   NaN                  1   \n",
       "3                   2.0                   0.0                  1   \n",
       "4                   1.0                   0.0                  1   \n",
       "\n",
       "   IsYieldedEnabled  TokenAllocation  QuotaTokens  TotalWaitingTimeInMins  \\\n",
       "0                 1              190        10687                0.950718   \n",
       "1                 1             4000        14572              165.389673   \n",
       "2                 1              400         2150               86.818160   \n",
       "3                 1               50        29125                0.675911   \n",
       "4                 1              190        10687               52.082043   \n",
       "\n",
       "   EstimatedRemainingRunningTimeInMins  IsQuotaFullyLoad  WhetherHasSLA  \\\n",
       "0                                  360                 0              0   \n",
       "1                                  360                 1              1   \n",
       "2                                  360                 0              0   \n",
       "3                                  360                 0              1   \n",
       "4                                  360                 1              0   \n",
       "\n",
       "   Priority  \n",
       "0        70  \n",
       "1       137  \n",
       "2       130  \n",
       "3        81  \n",
       "4        94  "
      ]
     },
     "execution_count": 14,
     "metadata": {},
     "output_type": "execute_result"
    }
   ],
   "source": [
    "#data_df=data_df.iloc[:,0:10]\n",
    "data_df.head()"
   ]
  },
  {
   "cell_type": "code",
   "execution_count": 15,
   "id": "0b261b5e",
   "metadata": {},
   "outputs": [],
   "source": [
    "data_df['YieldScopePriority_X'] = data_df['YieldScopePriority_X'].astype(str)\n",
    "data_df['YieldScopePriority_Y'] = data_df['YieldScopePriority_Y'].astype(str)"
   ]
  },
  {
   "cell_type": "code",
   "execution_count": 16,
   "id": "69675584",
   "metadata": {},
   "outputs": [
    {
     "data": {
      "text/plain": [
       "1.0    530\n",
       "nan    426\n",
       "2.0     38\n",
       "0.0      6\n",
       "Name: YieldScopePriority_X, dtype: int64"
      ]
     },
     "execution_count": 16,
     "metadata": {},
     "output_type": "execute_result"
    }
   ],
   "source": [
    "data_df['YieldScopePriority_X'].value_counts()"
   ]
  },
  {
   "cell_type": "markdown",
   "id": "881e3f39",
   "metadata": {},
   "source": [
    "#### priority_x, priority_y 目前只有5个值，0,1,2,10，null"
   ]
  },
  {
   "cell_type": "code",
   "execution_count": 17,
   "id": "cdcd71ef",
   "metadata": {
    "scrolled": false
   },
   "outputs": [
    {
     "data": {
      "text/plain": [
       "0.0     553\n",
       "nan     429\n",
       "1.0      12\n",
       "10.0      6\n",
       "Name: YieldScopePriority_Y, dtype: int64"
      ]
     },
     "execution_count": 17,
     "metadata": {},
     "output_type": "execute_result"
    }
   ],
   "source": [
    "data_df['YieldScopePriority_Y'].value_counts()"
   ]
  },
  {
   "cell_type": "code",
   "execution_count": 18,
   "id": "1ee4def2",
   "metadata": {},
   "outputs": [
    {
     "data": {
      "text/plain": [
       "1.0    530\n",
       "nan    426\n",
       "2.0     38\n",
       "0.0      6\n",
       "Name: YieldScopePriority_X, dtype: int64"
      ]
     },
     "execution_count": 18,
     "metadata": {},
     "output_type": "execute_result"
    }
   ],
   "source": [
    "row =  data_df.index[(data_df['YieldScopePriority_X'] != 'nan')&(data_df['YieldScopePriority_X'] != '0.0')&(data_df['YieldScopePriority_X'] != '1.0')]\n",
    "data_df.loc[row,'YieldScopePriority_X']='2.0'\n",
    "data_df['YieldScopePriority_X'].value_counts()"
   ]
  },
  {
   "cell_type": "code",
   "execution_count": 19,
   "id": "92e37a89",
   "metadata": {},
   "outputs": [
    {
     "data": {
      "text/plain": [
       "0.0    553\n",
       "nan    429\n",
       "1.0     12\n",
       "2.0      6\n",
       "Name: YieldScopePriority_Y, dtype: int64"
      ]
     },
     "execution_count": 19,
     "metadata": {},
     "output_type": "execute_result"
    }
   ],
   "source": [
    "row2 =  data_df.index[(data_df['YieldScopePriority_Y'] != 'nan')&(data_df['YieldScopePriority_Y'] != '0.0')&(data_df['YieldScopePriority_Y'] != '1.0')]\n",
    "data_df.loc[row2,'YieldScopePriority_Y']='2.0'\n",
    "data_df['YieldScopePriority_Y'].value_counts()"
   ]
  },
  {
   "cell_type": "markdown",
   "id": "e7fe494c",
   "metadata": {},
   "source": [
    "#### 把 YieldScopePriority_X\tYieldScopePriority_Y 用one hot来处理"
   ]
  },
  {
   "cell_type": "code",
   "execution_count": 21,
   "id": "6ed9e105",
   "metadata": {},
   "outputs": [
    {
     "data": {
      "text/html": [
       "<div>\n",
       "<style scoped>\n",
       "    .dataframe tbody tr th:only-of-type {\n",
       "        vertical-align: middle;\n",
       "    }\n",
       "\n",
       "    .dataframe tbody tr th {\n",
       "        vertical-align: top;\n",
       "    }\n",
       "\n",
       "    .dataframe thead th {\n",
       "        text-align: right;\n",
       "    }\n",
       "</style>\n",
       "<table border=\"1\" class=\"dataframe\">\n",
       "  <thead>\n",
       "    <tr style=\"text-align: right;\">\n",
       "      <th></th>\n",
       "      <th>IsYieldForEnabled</th>\n",
       "      <th>IsYieldedEnabled</th>\n",
       "      <th>TokenAllocation</th>\n",
       "      <th>QuotaTokens</th>\n",
       "      <th>TotalWaitingTimeInMins</th>\n",
       "      <th>EstimatedRemainingRunningTimeInMins</th>\n",
       "      <th>IsQuotaFullyLoad</th>\n",
       "      <th>WhetherHasSLA</th>\n",
       "      <th>Priority</th>\n",
       "      <th>YieldScopePriority_X_0.0</th>\n",
       "      <th>YieldScopePriority_X_1.0</th>\n",
       "      <th>YieldScopePriority_X_2.0</th>\n",
       "      <th>YieldScopePriority_X_nan</th>\n",
       "      <th>YieldScopePriority_Y_0.0</th>\n",
       "      <th>YieldScopePriority_Y_1.0</th>\n",
       "      <th>YieldScopePriority_Y_2.0</th>\n",
       "      <th>YieldScopePriority_Y_nan</th>\n",
       "    </tr>\n",
       "  </thead>\n",
       "  <tbody>\n",
       "    <tr>\n",
       "      <th>0</th>\n",
       "      <td>1</td>\n",
       "      <td>1</td>\n",
       "      <td>190</td>\n",
       "      <td>10687</td>\n",
       "      <td>0.950718</td>\n",
       "      <td>360</td>\n",
       "      <td>0</td>\n",
       "      <td>0</td>\n",
       "      <td>70</td>\n",
       "      <td>0</td>\n",
       "      <td>1</td>\n",
       "      <td>0</td>\n",
       "      <td>0</td>\n",
       "      <td>1</td>\n",
       "      <td>0</td>\n",
       "      <td>0</td>\n",
       "      <td>0</td>\n",
       "    </tr>\n",
       "    <tr>\n",
       "      <th>1</th>\n",
       "      <td>1</td>\n",
       "      <td>1</td>\n",
       "      <td>4000</td>\n",
       "      <td>14572</td>\n",
       "      <td>165.389673</td>\n",
       "      <td>360</td>\n",
       "      <td>1</td>\n",
       "      <td>1</td>\n",
       "      <td>137</td>\n",
       "      <td>0</td>\n",
       "      <td>0</td>\n",
       "      <td>0</td>\n",
       "      <td>1</td>\n",
       "      <td>0</td>\n",
       "      <td>0</td>\n",
       "      <td>0</td>\n",
       "      <td>1</td>\n",
       "    </tr>\n",
       "    <tr>\n",
       "      <th>2</th>\n",
       "      <td>1</td>\n",
       "      <td>1</td>\n",
       "      <td>400</td>\n",
       "      <td>2150</td>\n",
       "      <td>86.818160</td>\n",
       "      <td>360</td>\n",
       "      <td>0</td>\n",
       "      <td>0</td>\n",
       "      <td>130</td>\n",
       "      <td>0</td>\n",
       "      <td>0</td>\n",
       "      <td>0</td>\n",
       "      <td>1</td>\n",
       "      <td>0</td>\n",
       "      <td>0</td>\n",
       "      <td>0</td>\n",
       "      <td>1</td>\n",
       "    </tr>\n",
       "    <tr>\n",
       "      <th>3</th>\n",
       "      <td>1</td>\n",
       "      <td>1</td>\n",
       "      <td>50</td>\n",
       "      <td>29125</td>\n",
       "      <td>0.675911</td>\n",
       "      <td>360</td>\n",
       "      <td>0</td>\n",
       "      <td>1</td>\n",
       "      <td>81</td>\n",
       "      <td>0</td>\n",
       "      <td>0</td>\n",
       "      <td>1</td>\n",
       "      <td>0</td>\n",
       "      <td>1</td>\n",
       "      <td>0</td>\n",
       "      <td>0</td>\n",
       "      <td>0</td>\n",
       "    </tr>\n",
       "    <tr>\n",
       "      <th>4</th>\n",
       "      <td>1</td>\n",
       "      <td>1</td>\n",
       "      <td>190</td>\n",
       "      <td>10687</td>\n",
       "      <td>52.082043</td>\n",
       "      <td>360</td>\n",
       "      <td>1</td>\n",
       "      <td>0</td>\n",
       "      <td>94</td>\n",
       "      <td>0</td>\n",
       "      <td>1</td>\n",
       "      <td>0</td>\n",
       "      <td>0</td>\n",
       "      <td>1</td>\n",
       "      <td>0</td>\n",
       "      <td>0</td>\n",
       "      <td>0</td>\n",
       "    </tr>\n",
       "  </tbody>\n",
       "</table>\n",
       "</div>"
      ],
      "text/plain": [
       "   IsYieldForEnabled  IsYieldedEnabled  TokenAllocation  QuotaTokens  \\\n",
       "0                  1                 1              190        10687   \n",
       "1                  1                 1             4000        14572   \n",
       "2                  1                 1              400         2150   \n",
       "3                  1                 1               50        29125   \n",
       "4                  1                 1              190        10687   \n",
       "\n",
       "   TotalWaitingTimeInMins  EstimatedRemainingRunningTimeInMins  \\\n",
       "0                0.950718                                  360   \n",
       "1              165.389673                                  360   \n",
       "2               86.818160                                  360   \n",
       "3                0.675911                                  360   \n",
       "4               52.082043                                  360   \n",
       "\n",
       "   IsQuotaFullyLoad  WhetherHasSLA  Priority  YieldScopePriority_X_0.0  \\\n",
       "0                 0              0        70                         0   \n",
       "1                 1              1       137                         0   \n",
       "2                 0              0       130                         0   \n",
       "3                 0              1        81                         0   \n",
       "4                 1              0        94                         0   \n",
       "\n",
       "   YieldScopePriority_X_1.0  YieldScopePriority_X_2.0  \\\n",
       "0                         1                         0   \n",
       "1                         0                         0   \n",
       "2                         0                         0   \n",
       "3                         0                         1   \n",
       "4                         1                         0   \n",
       "\n",
       "   YieldScopePriority_X_nan  YieldScopePriority_Y_0.0  \\\n",
       "0                         0                         1   \n",
       "1                         1                         0   \n",
       "2                         1                         0   \n",
       "3                         0                         1   \n",
       "4                         0                         1   \n",
       "\n",
       "   YieldScopePriority_Y_1.0  YieldScopePriority_Y_2.0  \\\n",
       "0                         0                         0   \n",
       "1                         0                         0   \n",
       "2                         0                         0   \n",
       "3                         0                         0   \n",
       "4                         0                         0   \n",
       "\n",
       "   YieldScopePriority_Y_nan  \n",
       "0                         0  \n",
       "1                         1  \n",
       "2                         1  \n",
       "3                         0  \n",
       "4                         0  "
      ]
     },
     "execution_count": 21,
     "metadata": {},
     "output_type": "execute_result"
    }
   ],
   "source": [
    "data_dummy_df = pd.get_dummies(data_df)\n",
    "data_dummy_df.head()"
   ]
  },
  {
   "cell_type": "markdown",
   "id": "37f81b96",
   "metadata": {},
   "source": [
    "#### 划分训练集和测试集\n",
    "##### 随机采样 700训练，300用于测试"
   ]
  },
  {
   "cell_type": "code",
   "execution_count": 22,
   "id": "15407d12",
   "metadata": {},
   "outputs": [],
   "source": [
    "train_df,test_df = np.split(data_dummy_df.sample(frac=1), [int(.7*len(data_df))])"
   ]
  },
  {
   "cell_type": "code",
   "execution_count": 23,
   "id": "1accabb5",
   "metadata": {},
   "outputs": [],
   "source": [
    "train_priority = train_df.pop('Priority')\n",
    "test_priority = test_df.pop('Priority')"
   ]
  },
  {
   "cell_type": "code",
   "execution_count": 24,
   "id": "be8009f1",
   "metadata": {},
   "outputs": [],
   "source": [
    "train_df.shape, test_df.shape\n",
    "X_train = train_df.values\n",
    "X_test = test_df.values"
   ]
  },
  {
   "cell_type": "markdown",
   "id": "5ef24a4a",
   "metadata": {},
   "source": [
    "#### 建模"
   ]
  },
  {
   "cell_type": "code",
   "execution_count": 33,
   "id": "ff2fe742",
   "metadata": {},
   "outputs": [],
   "source": [
    "from sklearn import linear_model\n",
    "import sklearn.linear_model\n",
    "from sklearn.model_selection import cross_val_score\n",
    "import matplotlib.pyplot as plt"
   ]
  },
  {
   "cell_type": "markdown",
   "id": "98469b28",
   "metadata": {},
   "source": [
    "#### linear regression"
   ]
  },
  {
   "cell_type": "code",
   "execution_count": 34,
   "id": "1001544b",
   "metadata": {},
   "outputs": [
    {
     "data": {
      "text/plain": [
       "(4.363084817801768, 97.41)"
      ]
     },
     "execution_count": 34,
     "metadata": {},
     "output_type": "execute_result"
    }
   ],
   "source": [
    "clf1=linear_model.LinearRegression()\n",
    "test_score = np.sqrt(-cross_val_score(clf1, X_train, train_priority, cv=10, scoring='neg_mean_squared_error'))\n",
    "SqrtMSE = np.mean(test_score)\n",
    "SqrtMSE,np.mean(train_priority)"
   ]
  },
  {
   "cell_type": "markdown",
   "id": "1d105f98",
   "metadata": {},
   "source": [
    "#### 添加norm-1作为正则项"
   ]
  },
  {
   "cell_type": "code",
   "execution_count": 38,
   "id": "6d31623c",
   "metadata": {},
   "outputs": [
    {
     "name": "stderr",
     "output_type": "stream",
     "text": [
      "C:\\Users\\t-quanyutao\\Anaconda3\\lib\\site-packages\\sklearn\\linear_model\\_coordinate_descent.py:530: ConvergenceWarning: Objective did not converge. You might want to increase the number of iterations. Duality gap: 4713.19750025004, tolerance: 46.939193571428575\n",
      "  model = cd_fast.enet_coordinate_descent(\n",
      "C:\\Users\\t-quanyutao\\Anaconda3\\lib\\site-packages\\sklearn\\linear_model\\_coordinate_descent.py:530: ConvergenceWarning: Objective did not converge. You might want to increase the number of iterations. Duality gap: 769.2687202811439, tolerance: 48.13506\n",
      "  model = cd_fast.enet_coordinate_descent(\n",
      "C:\\Users\\t-quanyutao\\Anaconda3\\lib\\site-packages\\sklearn\\linear_model\\_coordinate_descent.py:530: ConvergenceWarning: Objective did not converge. You might want to increase the number of iterations. Duality gap: 1211.609185220087, tolerance: 45.66979839285714\n",
      "  model = cd_fast.enet_coordinate_descent(\n",
      "C:\\Users\\t-quanyutao\\Anaconda3\\lib\\site-packages\\sklearn\\linear_model\\_coordinate_descent.py:530: ConvergenceWarning: Objective did not converge. You might want to increase the number of iterations. Duality gap: 871.2207304417607, tolerance: 48.108517142857146\n",
      "  model = cd_fast.enet_coordinate_descent(\n",
      "C:\\Users\\t-quanyutao\\Anaconda3\\lib\\site-packages\\sklearn\\linear_model\\_coordinate_descent.py:530: ConvergenceWarning: Objective did not converge. You might want to increase the number of iterations. Duality gap: 4258.59719663787, tolerance: 46.939193571428575\n",
      "  model = cd_fast.enet_coordinate_descent(\n",
      "C:\\Users\\t-quanyutao\\Anaconda3\\lib\\site-packages\\sklearn\\linear_model\\_coordinate_descent.py:530: ConvergenceWarning: Objective did not converge. You might want to increase the number of iterations. Duality gap: 344.0329122770836, tolerance: 48.13506\n",
      "  model = cd_fast.enet_coordinate_descent(\n",
      "C:\\Users\\t-quanyutao\\Anaconda3\\lib\\site-packages\\sklearn\\linear_model\\_coordinate_descent.py:530: ConvergenceWarning: Objective did not converge. You might want to increase the number of iterations. Duality gap: 447.2582975782643, tolerance: 45.66979839285714\n",
      "  model = cd_fast.enet_coordinate_descent(\n",
      "C:\\Users\\t-quanyutao\\Anaconda3\\lib\\site-packages\\sklearn\\linear_model\\_coordinate_descent.py:530: ConvergenceWarning: Objective did not converge. You might want to increase the number of iterations. Duality gap: 328.79575033794663, tolerance: 48.108517142857146\n",
      "  model = cd_fast.enet_coordinate_descent(\n",
      "C:\\Users\\t-quanyutao\\Anaconda3\\lib\\site-packages\\sklearn\\linear_model\\_coordinate_descent.py:530: ConvergenceWarning: Objective did not converge. You might want to increase the number of iterations. Duality gap: 3786.4451641747155, tolerance: 46.939193571428575\n",
      "  model = cd_fast.enet_coordinate_descent(\n",
      "C:\\Users\\t-quanyutao\\Anaconda3\\lib\\site-packages\\sklearn\\linear_model\\_coordinate_descent.py:530: ConvergenceWarning: Objective did not converge. You might want to increase the number of iterations. Duality gap: 200.20031107301656, tolerance: 48.13506\n",
      "  model = cd_fast.enet_coordinate_descent(\n",
      "C:\\Users\\t-quanyutao\\Anaconda3\\lib\\site-packages\\sklearn\\linear_model\\_coordinate_descent.py:530: ConvergenceWarning: Objective did not converge. You might want to increase the number of iterations. Duality gap: 259.72794358586725, tolerance: 45.66979839285714\n",
      "  model = cd_fast.enet_coordinate_descent(\n",
      "C:\\Users\\t-quanyutao\\Anaconda3\\lib\\site-packages\\sklearn\\linear_model\\_coordinate_descent.py:530: ConvergenceWarning: Objective did not converge. You might want to increase the number of iterations. Duality gap: 188.02584307481266, tolerance: 48.108517142857146\n",
      "  model = cd_fast.enet_coordinate_descent(\n",
      "C:\\Users\\t-quanyutao\\Anaconda3\\lib\\site-packages\\sklearn\\linear_model\\_coordinate_descent.py:530: ConvergenceWarning: Objective did not converge. You might want to increase the number of iterations. Duality gap: 3442.849360029875, tolerance: 46.939193571428575\n",
      "  model = cd_fast.enet_coordinate_descent(\n",
      "C:\\Users\\t-quanyutao\\Anaconda3\\lib\\site-packages\\sklearn\\linear_model\\_coordinate_descent.py:530: ConvergenceWarning: Objective did not converge. You might want to increase the number of iterations. Duality gap: 122.82114933475896, tolerance: 48.13506\n",
      "  model = cd_fast.enet_coordinate_descent(\n",
      "C:\\Users\\t-quanyutao\\Anaconda3\\lib\\site-packages\\sklearn\\linear_model\\_coordinate_descent.py:530: ConvergenceWarning: Objective did not converge. You might want to increase the number of iterations. Duality gap: 159.09426978031297, tolerance: 45.66979839285714\n",
      "  model = cd_fast.enet_coordinate_descent(\n",
      "C:\\Users\\t-quanyutao\\Anaconda3\\lib\\site-packages\\sklearn\\linear_model\\_coordinate_descent.py:530: ConvergenceWarning: Objective did not converge. You might want to increase the number of iterations. Duality gap: 115.33056207338086, tolerance: 48.108517142857146\n",
      "  model = cd_fast.enet_coordinate_descent(\n",
      "C:\\Users\\t-quanyutao\\Anaconda3\\lib\\site-packages\\sklearn\\linear_model\\_coordinate_descent.py:530: ConvergenceWarning: Objective did not converge. You might want to increase the number of iterations. Duality gap: 3043.3113649550287, tolerance: 46.939193571428575\n",
      "  model = cd_fast.enet_coordinate_descent(\n",
      "C:\\Users\\t-quanyutao\\Anaconda3\\lib\\site-packages\\sklearn\\linear_model\\_coordinate_descent.py:530: ConvergenceWarning: Objective did not converge. You might want to increase the number of iterations. Duality gap: 82.08875697602161, tolerance: 48.13506\n",
      "  model = cd_fast.enet_coordinate_descent(\n",
      "C:\\Users\\t-quanyutao\\Anaconda3\\lib\\site-packages\\sklearn\\linear_model\\_coordinate_descent.py:530: ConvergenceWarning: Objective did not converge. You might want to increase the number of iterations. Duality gap: 104.8224913159047, tolerance: 45.66979839285714\n",
      "  model = cd_fast.enet_coordinate_descent(\n",
      "C:\\Users\\t-quanyutao\\Anaconda3\\lib\\site-packages\\sklearn\\linear_model\\_coordinate_descent.py:530: ConvergenceWarning: Objective did not converge. You might want to increase the number of iterations. Duality gap: 77.45149219527593, tolerance: 48.108517142857146\n",
      "  model = cd_fast.enet_coordinate_descent(\n",
      "C:\\Users\\t-quanyutao\\Anaconda3\\lib\\site-packages\\sklearn\\linear_model\\_coordinate_descent.py:530: ConvergenceWarning: Objective did not converge. You might want to increase the number of iterations. Duality gap: 2617.1026074278475, tolerance: 46.939193571428575\n",
      "  model = cd_fast.enet_coordinate_descent(\n",
      "C:\\Users\\t-quanyutao\\Anaconda3\\lib\\site-packages\\sklearn\\linear_model\\_coordinate_descent.py:530: ConvergenceWarning: Objective did not converge. You might want to increase the number of iterations. Duality gap: 61.641974514639514, tolerance: 48.13506\n",
      "  model = cd_fast.enet_coordinate_descent(\n",
      "C:\\Users\\t-quanyutao\\Anaconda3\\lib\\site-packages\\sklearn\\linear_model\\_coordinate_descent.py:530: ConvergenceWarning: Objective did not converge. You might want to increase the number of iterations. Duality gap: 77.14155871950788, tolerance: 45.66979839285714\n",
      "  model = cd_fast.enet_coordinate_descent(\n",
      "C:\\Users\\t-quanyutao\\Anaconda3\\lib\\site-packages\\sklearn\\linear_model\\_coordinate_descent.py:530: ConvergenceWarning: Objective did not converge. You might want to increase the number of iterations. Duality gap: 58.613243070069075, tolerance: 48.108517142857146\n",
      "  model = cd_fast.enet_coordinate_descent(\n",
      "C:\\Users\\t-quanyutao\\Anaconda3\\lib\\site-packages\\sklearn\\linear_model\\_coordinate_descent.py:530: ConvergenceWarning: Objective did not converge. You might want to increase the number of iterations. Duality gap: 2209.8616565343677, tolerance: 46.939193571428575\n",
      "  model = cd_fast.enet_coordinate_descent(\n",
      "C:\\Users\\t-quanyutao\\Anaconda3\\lib\\site-packages\\sklearn\\linear_model\\_coordinate_descent.py:530: ConvergenceWarning: Objective did not converge. You might want to increase the number of iterations. Duality gap: 51.60836678805754, tolerance: 48.13506\n",
      "  model = cd_fast.enet_coordinate_descent(\n",
      "C:\\Users\\t-quanyutao\\Anaconda3\\lib\\site-packages\\sklearn\\linear_model\\_coordinate_descent.py:530: ConvergenceWarning: Objective did not converge. You might want to increase the number of iterations. Duality gap: 63.37374568605628, tolerance: 45.66979839285714\n",
      "  model = cd_fast.enet_coordinate_descent(\n",
      "C:\\Users\\t-quanyutao\\Anaconda3\\lib\\site-packages\\sklearn\\linear_model\\_coordinate_descent.py:530: ConvergenceWarning: Objective did not converge. You might want to increase the number of iterations. Duality gap: 49.131268660759815, tolerance: 48.108517142857146\n",
      "  model = cd_fast.enet_coordinate_descent(\n",
      "C:\\Users\\t-quanyutao\\Anaconda3\\lib\\site-packages\\sklearn\\linear_model\\_coordinate_descent.py:530: ConvergenceWarning: Objective did not converge. You might want to increase the number of iterations. Duality gap: 56.649499368568286, tolerance: 45.66979839285714\n",
      "  model = cd_fast.enet_coordinate_descent(\n",
      "C:\\Users\\t-quanyutao\\Anaconda3\\lib\\site-packages\\sklearn\\linear_model\\_coordinate_descent.py:530: ConvergenceWarning: Objective did not converge. You might want to increase the number of iterations. Duality gap: 52.96222959562874, tolerance: 45.66979839285714\n",
      "  model = cd_fast.enet_coordinate_descent(\n"
     ]
    }
   ],
   "source": [
    "alphas = np.logspace(-3, 2, 30)\n",
    "# 1e-3到1e2之间有50个数\n",
    "test_scores = []\n",
    "for alpha in alphas:\n",
    "    clf2 = linear_model.Lasso(alpha)\n",
    "    #均方根\n",
    "    test_score = np.sqrt(-cross_val_score(clf2, X_train, train_priority, cv=5, scoring='neg_mean_squared_error'))\n",
    "    test_scores.append(np.mean(test_score))"
   ]
  },
  {
   "cell_type": "code",
   "execution_count": 39,
   "id": "3ddb1137",
   "metadata": {},
   "outputs": [
    {
     "data": {
      "text/plain": [
       "Text(0, 0.5, 'MSE')"
      ]
     },
     "execution_count": 39,
     "metadata": {},
     "output_type": "execute_result"
    },
    {
     "data": {
      "image/png": "[encoded data removed]",
      "text/plain": [
       "<Figure size 432x288 with 1 Axes>"
      ]
     },
     "metadata": {
      "needs_background": "light"
     },
     "output_type": "display_data"
    }
   ],
   "source": [
    "import matplotlib.pyplot as plt\n",
    "%matplotlib inline\n",
    "plt.plot(alphas, test_scores)\n",
    "plt.title(\"norm-1 as regularization\");\n",
    "plt.xlabel(\"alpha\")\n",
    "plt.ylabel(\"MSE\")"
   ]
  },
  {
   "cell_type": "markdown",
   "id": "58bca44f",
   "metadata": {},
   "source": [
    "#### 添加norm-2作为正则项"
   ]
  },
  {
   "cell_type": "code",
   "execution_count": null,
   "id": "cc116d64",
   "metadata": {},
   "outputs": [],
   "source": [
    "alphas = np.logspace(-3, 2, 50)\n",
    "# 1e-3到1e2之间有50个数\n",
    "test_scores = []\n",
    "for alpha in alphas:\n",
    "    clf3 = linear_model.Ridge(alpha)\n",
    "    #clf是ridge类型\n",
    "    test_score = np.sqrt(-cross_val_score(clf3, X_train, train_priority, cv=10, scoring='neg_mean_squared_error'))\n",
    "    test_scores.append(np.mean(test_score))"
   ]
  },
  {
   "cell_type": "code",
   "execution_count": null,
   "id": "1e750582",
   "metadata": {},
   "outputs": [],
   "source": [
    "import matplotlib.pyplot as plt\n",
    "%matplotlib inline\n",
    "plt.plot(alphas, test_scores)\n",
    "plt.title(\"norm-2 as regularization\");\n",
    "plt.xlabel(\"alpha\")\n",
    "plt.ylabel(\"MSE\")"
   ]
  },
  {
   "cell_type": "markdown",
   "id": "2957b0d4",
   "metadata": {},
   "source": [
    "#### random forest"
   ]
  },
  {
   "cell_type": "code",
   "execution_count": 25,
   "id": "1f61741d",
   "metadata": {},
   "outputs": [],
   "source": [
    "from sklearn.ensemble import RandomForestRegressor"
   ]
  },
  {
   "cell_type": "markdown",
   "id": "5b088626",
   "metadata": {},
   "source": [
    "#### 对n_estimators进行调优"
   ]
  },
  {
   "cell_type": "code",
   "execution_count": 41,
   "id": "9733bcc1",
   "metadata": {},
   "outputs": [],
   "source": [
    "n_estimators = range(1,401,20)\n",
    "test_scores = []\n",
    "for n_estimator in n_estimators:\n",
    "    clf = RandomForestRegressor(n_estimators=n_estimator, max_features=.3, random_state=10)\n",
    "    test_score = np.sqrt(-cross_val_score(clf, X_train, train_priority, cv=10, scoring='neg_mean_squared_error'))\n",
    "    test_scores.append(np.mean(test_score))"
   ]
  },
  {
   "cell_type": "code",
   "execution_count": 42,
   "id": "e15ea898",
   "metadata": {},
   "outputs": [
    {
     "data": {
      "image/png": "[encoded data removed]",
      "text/plain": [
       "<Figure size 432x288 with 1 Axes>"
      ]
     },
     "metadata": {
      "needs_background": "light"
     },
     "output_type": "display_data"
    }
   ],
   "source": [
    "plt.plot(n_estimators, test_scores)\n",
    "plt.title(\"n_estimators vs CV Error\");"
   ]
  },
  {
   "cell_type": "markdown",
   "id": "bdfcd812",
   "metadata": {},
   "source": [
    "#### max_features进行调优"
   ]
  },
  {
   "cell_type": "code",
   "execution_count": 43,
   "id": "40555fd2",
   "metadata": {},
   "outputs": [],
   "source": [
    "max_features = [.1, .3, .5, .7, .9, .99]\n",
    "test_scores = []\n",
    "for max_feat in max_features:\n",
    "    clf = RandomForestRegressor(n_estimators=225, max_features=max_feat, random_state=15)\n",
    "    test_score = np.sqrt(-cross_val_score(clf, X_train, train_priority, cv=10, scoring='neg_mean_squared_error'))\n",
    "    test_scores.append(np.mean(test_score))"
   ]
  },
  {
   "cell_type": "code",
   "execution_count": 44,
   "id": "230d283c",
   "metadata": {},
   "outputs": [
    {
     "data": {
      "image/png": "[encoded data removed]",
      "text/plain": [
       "<Figure size 432x288 with 1 Axes>"
      ]
     },
     "metadata": {
      "needs_background": "light"
     },
     "output_type": "display_data"
    }
   ],
   "source": [
    "plt.plot(max_features, test_scores)\n",
    "plt.title(\"max_features vs CV Error\");"
   ]
  },
  {
   "cell_type": "markdown",
   "id": "d3b0ae7f",
   "metadata": {},
   "source": [
    "## max_features=0.7,  n_estimators=225 的RF, 泛化误差"
   ]
  },
  {
   "cell_type": "code",
   "execution_count": 45,
   "id": "070d9ed1",
   "metadata": {},
   "outputs": [],
   "source": [
    "from sklearn.metrics import mean_squared_error\n",
    "from sklearn.metrics import mean_absolute_error\n",
    "from sklearn.metrics import r2_score"
   ]
  },
  {
   "cell_type": "code",
   "execution_count": 46,
   "id": "759cc618",
   "metadata": {},
   "outputs": [
    {
     "data": {
      "text/plain": [
       "(2.6106289904257896, 97.26)"
      ]
     },
     "execution_count": 46,
     "metadata": {},
     "output_type": "execute_result"
    }
   ],
   "source": [
    "rf = RandomForestRegressor(n_estimators=225, max_features=0.5, random_state=15)\n",
    "rf.fit(X_train, train_priority)\n",
    "\n",
    "pre=rf.predict(X_test)\n",
    "np.sqrt(mean_squared_error(pre,test_priority)), np.mean(test_priority)"
   ]
  },
  {
   "cell_type": "code",
   "execution_count": 48,
   "id": "0ea57e19",
   "metadata": {},
   "outputs": [
    {
     "data": {
      "text/plain": [
       "(1.6033925925925925, 97.26)"
      ]
     },
     "execution_count": 48,
     "metadata": {},
     "output_type": "execute_result"
    }
   ],
   "source": [
    "# MAE\n",
    "mean_absolute_error(pre,test_priority), np.mean(test_priority)"
   ]
  },
  {
   "cell_type": "code",
   "execution_count": 49,
   "id": "3b8e1e77",
   "metadata": {},
   "outputs": [
    {
     "data": {
      "text/plain": [
       "0.9911662032578458"
      ]
     },
     "execution_count": 49,
     "metadata": {},
     "output_type": "execute_result"
    }
   ],
   "source": [
    "# R_square\n",
    "r2_score(test_priority,pre)"
   ]
  },
  {
   "cell_type": "code",
   "execution_count": 50,
   "id": "0bfad86f",
   "metadata": {},
   "outputs": [],
   "source": [
    "import matplotlib.pyplot as plt"
   ]
  },
  {
   "cell_type": "code",
   "execution_count": 51,
   "id": "af07091c",
   "metadata": {},
   "outputs": [
    {
     "data": {
      "text/plain": [
       "[<matplotlib.lines.Line2D at 0x24d493a0070>]"
      ]
     },
     "execution_count": 51,
     "metadata": {},
     "output_type": "execute_result"
    },
    {
     "data": {
      "image/png": "[encoded data removed]",
      "text/plain": [
       "<Figure size 432x288 with 1 Axes>"
      ]
     },
     "metadata": {
      "needs_background": "light"
     },
     "output_type": "display_data"
    }
   ],
   "source": [
    "xlabel = range(300)\n",
    "plt.plot(xlabel,test_priority,'o',label='true value',markersize=4.,color=(0.8,0.,0.))\n",
    "plt.plot(xlabel,pre,'o',label='prediction',markersize=4.,color=(0,0.5,0.))"
   ]
  },
  {
   "cell_type": "code",
   "execution_count": 52,
   "id": "85af98fc",
   "metadata": {},
   "outputs": [],
   "source": [
    "test_priority_sort = test_priority.reset_index()\n",
    "test_priority_sort = test_priority_sort.sort_values(by = 'Priority')"
   ]
  },
  {
   "cell_type": "code",
   "execution_count": 53,
   "id": "6265c359",
   "metadata": {},
   "outputs": [],
   "source": [
    "pre_sort = pd.Series(pre.tolist())"
   ]
  },
  {
   "cell_type": "code",
   "execution_count": 54,
   "id": "c7d1d81e",
   "metadata": {},
   "outputs": [],
   "source": [
    "test_priority_sort.index\n",
    "pre_sort = pre_sort[test_priority_sort.index]"
   ]
  },
  {
   "cell_type": "code",
   "execution_count": 55,
   "id": "f83f3376",
   "metadata": {},
   "outputs": [
    {
     "data": {
      "text/plain": [
       "<matplotlib.legend.Legend at 0x24d49491f40>"
      ]
     },
     "execution_count": 55,
     "metadata": {},
     "output_type": "execute_result"
    },
    {
     "data": {
      "image/png": "[encoded data removed]",
      "text/plain": [
       "<Figure size 432x288 with 1 Axes>"
      ]
     },
     "metadata": {
      "needs_background": "light"
     },
     "output_type": "display_data"
    }
   ],
   "source": [
    "plt.cla()\n",
    "xlabel = range(300)\n",
    "plt.plot(xlabel,test_priority_sort['Priority'],'o',label='true value',markersize=2.,color=(0.8,0,0.))\n",
    "plt.plot(xlabel,pre_sort,'o',label='prediction',markersize=2.,color=(0,0.5,0.))\n",
    "plt.legend()"
   ]
  },
  {
   "cell_type": "code",
   "execution_count": null,
   "id": "b89168c8",
   "metadata": {},
   "outputs": [],
   "source": [
    "rf.feature_importances_"
   ]
  },
  {
   "cell_type": "code",
   "execution_count": null,
   "id": "4103f04a",
   "metadata": {
    "scrolled": true
   },
   "outputs": [],
   "source": [
    "train_df.describe()"
   ]
  },
  {
   "cell_type": "markdown",
   "id": "3b185a1f",
   "metadata": {},
   "source": [
    "### 导入新的样本数据, 对比当前ares scheduler和模型的排序的结果(测试用)"
   ]
  },
  {
   "cell_type": "code",
   "execution_count": null,
   "id": "d7df00a4",
   "metadata": {},
   "outputs": [],
   "source": [
    "compare_df=pd.read_csv('./inputs/compare_data.csv', index_col=0)\n",
    "compare_df=compare_df.sort_values(by = 'Priority')"
   ]
  },
  {
   "cell_type": "code",
   "execution_count": null,
   "id": "7a32a27d",
   "metadata": {},
   "outputs": [],
   "source": [
    "compare_df=compare_df.rename(columns={'isOverLoaded':'IsQuotaFullyLoad'})\n",
    "compare_df=compare_df[['YieldScopePriority_X','YieldScopePriority_Y','IsYieldForEnabled','IsYieldedEnabled','TokenAllocation','QuotaTokens','TotalWaitingTimeInMins','IsQuotaFullyLoad','SLA','Priority']]\n",
    "compare_df=compare_df.reset_index(drop=True)\n",
    "compare_df.head()"
   ]
  },
  {
   "cell_type": "code",
   "execution_count": null,
   "id": "fdc6b80c",
   "metadata": {},
   "outputs": [],
   "source": [
    "compare_df=compare_df.rename(columns={'isOverLoaded':'IsQuotaFullyLoad'})\n",
    "compare_df['SLA'] = compare_df['SLA'].isnull()\n",
    "compare_df.head()"
   ]
  },
  {
   "cell_type": "code",
   "execution_count": null,
   "id": "5e39f2df",
   "metadata": {},
   "outputs": [],
   "source": [
    "original_df=compare_df.copy(deep=True)"
   ]
  },
  {
   "cell_type": "code",
   "execution_count": null,
   "id": "ce8bb149",
   "metadata": {},
   "outputs": [],
   "source": [
    "original_result=original_df"
   ]
  },
  {
   "cell_type": "code",
   "execution_count": null,
   "id": "8262d9b8",
   "metadata": {},
   "outputs": [],
   "source": [
    "compare_priority = compare_df.pop('Priority')"
   ]
  },
  {
   "cell_type": "code",
   "execution_count": null,
   "id": "3d32bab0",
   "metadata": {},
   "outputs": [],
   "source": [
    "compare_df['SLA'] = compare_df['SLA'].astype(int)\n",
    "compare_df['YieldScopePriority_X'] = compare_df['YieldScopePriority_X'].astype(str)\n",
    "compare_df['YieldScopePriority_Y'] = compare_df['YieldScopePriority_Y'].astype(str)"
   ]
  },
  {
   "cell_type": "code",
   "execution_count": null,
   "id": "6fd7b67f",
   "metadata": {},
   "outputs": [],
   "source": [
    "compare_df['YieldScopePriority_X'].value_counts()"
   ]
  },
  {
   "cell_type": "code",
   "execution_count": null,
   "id": "b5f9ac2f",
   "metadata": {},
   "outputs": [],
   "source": [
    "compare_df['YieldScopePriority_Y'].value_counts()"
   ]
  },
  {
   "cell_type": "code",
   "execution_count": null,
   "id": "c8e07874",
   "metadata": {},
   "outputs": [],
   "source": [
    "row =  compare_df.index[(compare_df['YieldScopePriority_X'] != 'nan')&(compare_df['YieldScopePriority_X'] != '0.0')&(compare_df['YieldScopePriority_X'] != '1.0')]\n",
    "compare_df.loc[row,'YieldScopePriority_X']='2.0'\n",
    "compare_df['YieldScopePriority_X'].value_counts()"
   ]
  },
  {
   "cell_type": "code",
   "execution_count": null,
   "id": "411492a0",
   "metadata": {},
   "outputs": [],
   "source": [
    "row =  compare_df.index[(compare_df['YieldScopePriority_Y'] != 'nan')&(compare_df['YieldScopePriority_Y'] != '0.0')&(compare_df['YieldScopePriority_Y'] != '1.0')]\n",
    "compare_df.loc[row,'YieldScopePriority_Y']='2.0'\n",
    "compare_df['YieldScopePriority_Y'].value_counts()"
   ]
  },
  {
   "cell_type": "code",
   "execution_count": null,
   "id": "138c63f7",
   "metadata": {},
   "outputs": [],
   "source": [
    "compare_dummy_df = pd.get_dummies(compare_df)"
   ]
  },
  {
   "cell_type": "code",
   "execution_count": null,
   "id": "bb5bbf61",
   "metadata": {},
   "outputs": [],
   "source": [
    "compare_dummy_df['YieldScopePriority_Y_1.0']=0\n",
    "compare_dummy_df['YieldScopePriority_Y_2.0']=0"
   ]
  },
  {
   "cell_type": "code",
   "execution_count": null,
   "id": "45565f22",
   "metadata": {},
   "outputs": [],
   "source": [
    "compare_dummy_df.head()"
   ]
  },
  {
   "cell_type": "code",
   "execution_count": null,
   "id": "0023ece0",
   "metadata": {},
   "outputs": [],
   "source": [
    "compare_dummy_df=compare_dummy_df[['IsYieldForEnabled','IsYieldedEnabled','TokenAllocation','QuotaTokens','TotalWaitingTimeInMins','IsQuotaFullyLoad','SLA','YieldScopePriority_X_0.0','YieldScopePriority_X_1.0','YieldScopePriority_X_2.0','YieldScopePriority_X_nan','YieldScopePriority_Y_0.0','YieldScopePriority_Y_1.0','YieldScopePriority_Y_2.0','YieldScopePriority_Y_nan']]"
   ]
  },
  {
   "cell_type": "code",
   "execution_count": null,
   "id": "c0bfcf96",
   "metadata": {},
   "outputs": [],
   "source": [
    "compare_dummy_df"
   ]
  },
  {
   "cell_type": "code",
   "execution_count": null,
   "id": "15d56f0c",
   "metadata": {},
   "outputs": [],
   "source": [
    "pre_compare=rf.predict(compare_dummy_df)"
   ]
  },
  {
   "cell_type": "code",
   "execution_count": null,
   "id": "ed0892ea",
   "metadata": {},
   "outputs": [],
   "source": [
    "compare_df['Priority']=pre_compare"
   ]
  },
  {
   "cell_type": "code",
   "execution_count": null,
   "id": "230d6945",
   "metadata": {},
   "outputs": [],
   "source": [
    "compare_result=compare_df.sort_values(by = 'Priority')"
   ]
  },
  {
   "cell_type": "code",
   "execution_count": null,
   "id": "b52755a0",
   "metadata": {},
   "outputs": [],
   "source": [
    "compare_result.index"
   ]
  },
  {
   "cell_type": "code",
   "execution_count": null,
   "id": "8048ca34",
   "metadata": {},
   "outputs": [],
   "source": [
    "original_result.index"
   ]
  },
  {
   "cell_type": "code",
   "execution_count": null,
   "id": "17df0942",
   "metadata": {},
   "outputs": [],
   "source": [
    "for i in range(len(compare_result)):\n",
    "    print(compare_result.index[i])"
   ]
  },
  {
   "cell_type": "code",
   "execution_count": null,
   "id": "2b564d05",
   "metadata": {},
   "outputs": [],
   "source": [
    "plt.plot(compare_result.index)"
   ]
  },
  {
   "cell_type": "code",
   "execution_count": null,
   "id": "9c7cd00a",
   "metadata": {},
   "outputs": [],
   "source": []
  }
 ],
 "metadata": {
  "kernelspec": {
   "display_name": "Python 3",
   "language": "python",
   "name": "python3"
  },
  "language_info": {
   "codemirror_mode": {
    "name": "ipython",
    "version": 3
   },
   "file_extension": ".py",
   "mimetype": "text/x-python",
   "name": "python",
   "nbconvert_exporter": "python",
   "pygments_lexer": "ipython3",
   "version": "3.8.8"
  },
  "varInspector": {
   "cols": {
    "lenName": 16,
    "lenType": 16,
    "lenVar": 40
   },
   "kernels_config": {
    "python": {
     "delete_cmd_postfix": "",
     "delete_cmd_prefix": "del ",
     "library": "var_list.py",
     "varRefreshCmd": "print(var_dic_list())"
    },
    "r": {
     "delete_cmd_postfix": ") ",
     "delete_cmd_prefix": "rm(",
     "library": "var_list.r",
     "varRefreshCmd": "cat(var_dic_list()) "
    }
   },
   "types_to_exclude": [
    "module",
    "function",
    "builtin_function_or_method",
    "instance",
    "_Feature"
   ],
   "window_display": false
  }
 },
 "nbformat": 4,
 "nbformat_minor": 5
}
