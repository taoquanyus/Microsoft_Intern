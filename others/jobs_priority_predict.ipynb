{
 "cells": [
  {
   "cell_type": "code",
   "execution_count": 589,
   "id": "125e8776",
   "metadata": {},
   "outputs": [],
   "source": [
    "import numpy as np\n",
    "import pandas as pd"
   ]
  },
  {
   "cell_type": "code",
   "execution_count": 590,
   "id": "16bf52d2",
   "metadata": {},
   "outputs": [],
   "source": [
    "data_df=pd.read_csv('./inputs/jobs_data.csv', index_col=0)"
   ]
  },
  {
   "cell_type": "code",
   "execution_count": 591,
   "id": "bf99789c",
   "metadata": {},
   "outputs": [],
   "source": [
    "#暂时没有用的列先去掉\n",
    "data_df=data_df.drop(['JobDate', 'VCId','SubmitTime','AUid','random'], axis=1)"
   ]
  },
  {
   "cell_type": "code",
   "execution_count": 592,
   "id": "6c2d4a09",
   "metadata": {
    "scrolled": true
   },
   "outputs": [
    {
     "data": {
      "text/html": [
       "<div>\n",
       "<style scoped>\n",
       "    .dataframe tbody tr th:only-of-type {\n",
       "        vertical-align: middle;\n",
       "    }\n",
       "\n",
       "    .dataframe tbody tr th {\n",
       "        vertical-align: top;\n",
       "    }\n",
       "\n",
       "    .dataframe thead th {\n",
       "        text-align: right;\n",
       "    }\n",
       "</style>\n",
       "<table border=\"1\" class=\"dataframe\">\n",
       "  <thead>\n",
       "    <tr style=\"text-align: right;\">\n",
       "      <th></th>\n",
       "      <th>SLA</th>\n",
       "      <th>JobStateId</th>\n",
       "      <th>Allocation</th>\n",
       "      <th>QuotaTokens</th>\n",
       "      <th>JobPriority</th>\n",
       "      <th>YieldScopePriority_X</th>\n",
       "      <th>YieldScopePriority_Y</th>\n",
       "    </tr>\n",
       "    <tr>\n",
       "      <th>JobId</th>\n",
       "      <th></th>\n",
       "      <th></th>\n",
       "      <th></th>\n",
       "      <th></th>\n",
       "      <th></th>\n",
       "      <th></th>\n",
       "      <th></th>\n",
       "    </tr>\n",
       "  </thead>\n",
       "  <tbody>\n",
       "    <tr>\n",
       "      <th>9e1b9eda-4d37-4e9a-997c-9b6ca26583b8</th>\n",
       "      <td>NaN</td>\n",
       "      <td>2</td>\n",
       "      <td>90</td>\n",
       "      <td>10687</td>\n",
       "      <td>65</td>\n",
       "      <td>1</td>\n",
       "      <td>0</td>\n",
       "    </tr>\n",
       "    <tr>\n",
       "      <th>5b6c7993-b276-4783-8fef-b5489347905e</th>\n",
       "      <td>2019-04-29 23:55:00.000</td>\n",
       "      <td>2</td>\n",
       "      <td>1500</td>\n",
       "      <td>16516</td>\n",
       "      <td>20</td>\n",
       "      <td>0</td>\n",
       "      <td>0</td>\n",
       "    </tr>\n",
       "    <tr>\n",
       "      <th>da82bce8-9d0c-4396-9e58-d5cc9fd1947b</th>\n",
       "      <td>NaN</td>\n",
       "      <td>2</td>\n",
       "      <td>200</td>\n",
       "      <td>10687</td>\n",
       "      <td>55</td>\n",
       "      <td>1</td>\n",
       "      <td>0</td>\n",
       "    </tr>\n",
       "    <tr>\n",
       "      <th>8cbe19b2-ed62-41e4-9ea2-80c5d22d7634</th>\n",
       "      <td>NaN</td>\n",
       "      <td>2</td>\n",
       "      <td>250</td>\n",
       "      <td>10687</td>\n",
       "      <td>53</td>\n",
       "      <td>1</td>\n",
       "      <td>0</td>\n",
       "    </tr>\n",
       "    <tr>\n",
       "      <th>d0472cb3-370c-44aa-82e5-2c3ab324ffe4</th>\n",
       "      <td>NaN</td>\n",
       "      <td>2</td>\n",
       "      <td>250</td>\n",
       "      <td>10687</td>\n",
       "      <td>53</td>\n",
       "      <td>1</td>\n",
       "      <td>0</td>\n",
       "    </tr>\n",
       "  </tbody>\n",
       "</table>\n",
       "</div>"
      ],
      "text/plain": [
       "                                                          SLA  JobStateId  \\\n",
       "JobId                                                                       \n",
       "9e1b9eda-4d37-4e9a-997c-9b6ca26583b8                      NaN           2   \n",
       "5b6c7993-b276-4783-8fef-b5489347905e  2019-04-29 23:55:00.000           2   \n",
       "da82bce8-9d0c-4396-9e58-d5cc9fd1947b                      NaN           2   \n",
       "8cbe19b2-ed62-41e4-9ea2-80c5d22d7634                      NaN           2   \n",
       "d0472cb3-370c-44aa-82e5-2c3ab324ffe4                      NaN           2   \n",
       "\n",
       "                                      Allocation  QuotaTokens  JobPriority  \\\n",
       "JobId                                                                        \n",
       "9e1b9eda-4d37-4e9a-997c-9b6ca26583b8          90        10687           65   \n",
       "5b6c7993-b276-4783-8fef-b5489347905e        1500        16516           20   \n",
       "da82bce8-9d0c-4396-9e58-d5cc9fd1947b         200        10687           55   \n",
       "8cbe19b2-ed62-41e4-9ea2-80c5d22d7634         250        10687           53   \n",
       "d0472cb3-370c-44aa-82e5-2c3ab324ffe4         250        10687           53   \n",
       "\n",
       "                                      YieldScopePriority_X  \\\n",
       "JobId                                                        \n",
       "9e1b9eda-4d37-4e9a-997c-9b6ca26583b8                     1   \n",
       "5b6c7993-b276-4783-8fef-b5489347905e                     0   \n",
       "da82bce8-9d0c-4396-9e58-d5cc9fd1947b                     1   \n",
       "8cbe19b2-ed62-41e4-9ea2-80c5d22d7634                     1   \n",
       "d0472cb3-370c-44aa-82e5-2c3ab324ffe4                     1   \n",
       "\n",
       "                                      YieldScopePriority_Y  \n",
       "JobId                                                       \n",
       "9e1b9eda-4d37-4e9a-997c-9b6ca26583b8                     0  \n",
       "5b6c7993-b276-4783-8fef-b5489347905e                     0  \n",
       "da82bce8-9d0c-4396-9e58-d5cc9fd1947b                     0  \n",
       "8cbe19b2-ed62-41e4-9ea2-80c5d22d7634                     0  \n",
       "d0472cb3-370c-44aa-82e5-2c3ab324ffe4                     0  "
      ]
     },
     "execution_count": 592,
     "metadata": {},
     "output_type": "execute_result"
    }
   ],
   "source": [
    "data_df.head()"
   ]
  },
  {
   "cell_type": "code",
   "execution_count": 593,
   "id": "f45bec03",
   "metadata": {},
   "outputs": [
    {
     "data": {
      "text/plain": [
       "<AxesSubplot:>"
      ]
     },
     "execution_count": 593,
     "metadata": {},
     "output_type": "execute_result"
    },
    {
     "data": {
      "image/png": "[encoded data removed]",
      "text/plain": [
       "<Figure size 432x288 with 1 Axes>"
      ]
     },
     "metadata": {
      "needs_background": "light"
     },
     "output_type": "display_data"
    }
   ],
   "source": [
    "%matplotlib inline\n",
    "priority=pd.DataFrame({\"Priority\":data_df[\"JobPriority\"],\"log(Priority+1)\":np.log1p(data_df[\"JobPriority\"]),\"log(log(Priority+1)+1)\":np.log1p(np.log1p(data_df[\"JobPriority\"]))})\n",
    "priority['Priority'].hist()\n"
   ]
  },
  {
   "cell_type": "code",
   "execution_count": 709,
   "id": "afce3293",
   "metadata": {},
   "outputs": [
    {
     "data": {
      "text/plain": [
       "<AxesSubplot:>"
      ]
     },
     "execution_count": 709,
     "metadata": {},
     "output_type": "execute_result"
    },
    {
     "data": {
      "image/png": "[encoded data removed]",
      "text/plain": [
       "<Figure size 432x288 with 1 Axes>"
      ]
     },
     "metadata": {
      "needs_background": "light"
     },
     "output_type": "display_data"
    }
   ],
   "source": [
    "priority['Priority'].hist(bins=100,range=(100,200))\n",
    "#priority.describe()"
   ]
  },
  {
   "cell_type": "markdown",
   "id": "84250d52",
   "metadata": {},
   "source": [
    "###  这里的Priority分布的不均匀，找找更好的平滑法"
   ]
  },
  {
   "cell_type": "code",
   "execution_count": 594,
   "id": "7971cd4f",
   "metadata": {
    "scrolled": true
   },
   "outputs": [
    {
     "data": {
      "text/plain": [
       "<AxesSubplot:>"
      ]
     },
     "execution_count": 594,
     "metadata": {},
     "output_type": "execute_result"
    },
    {
     "data": {
      "image/png": "[encoded data removed]",
      "text/plain": [
       "<Figure size 432x288 with 1 Axes>"
      ]
     },
     "metadata": {
      "needs_background": "light"
     },
     "output_type": "display_data"
    }
   ],
   "source": [
    "priority['log(Priority+1)'].hist()"
   ]
  },
  {
   "cell_type": "code",
   "execution_count": 595,
   "id": "e3523300",
   "metadata": {},
   "outputs": [
    {
     "data": {
      "text/plain": [
       "<AxesSubplot:>"
      ]
     },
     "execution_count": 595,
     "metadata": {},
     "output_type": "execute_result"
    },
    {
     "data": {
      "image/png": "[encoded data removed]",
      "text/plain": [
       "<Figure size 432x288 with 1 Axes>"
      ]
     },
     "metadata": {
      "needs_background": "light"
     },
     "output_type": "display_data"
    }
   ],
   "source": [
    "priority['log(log(Priority+1)+1)'].hist()\n",
    "#priority.describe()"
   ]
  },
  {
   "cell_type": "code",
   "execution_count": 596,
   "id": "95d32c98",
   "metadata": {},
   "outputs": [
    {
     "data": {
      "text/html": [
       "<div>\n",
       "<style scoped>\n",
       "    .dataframe tbody tr th:only-of-type {\n",
       "        vertical-align: middle;\n",
       "    }\n",
       "\n",
       "    .dataframe tbody tr th {\n",
       "        vertical-align: top;\n",
       "    }\n",
       "\n",
       "    .dataframe thead th {\n",
       "        text-align: right;\n",
       "    }\n",
       "</style>\n",
       "<table border=\"1\" class=\"dataframe\">\n",
       "  <thead>\n",
       "    <tr style=\"text-align: right;\">\n",
       "      <th></th>\n",
       "      <th>JobStateId</th>\n",
       "      <th>Allocation</th>\n",
       "      <th>QuotaTokens</th>\n",
       "      <th>JobPriority</th>\n",
       "      <th>YieldScopePriority_X</th>\n",
       "      <th>YieldScopePriority_Y</th>\n",
       "      <th>isExceedSLA</th>\n",
       "    </tr>\n",
       "    <tr>\n",
       "      <th>JobId</th>\n",
       "      <th></th>\n",
       "      <th></th>\n",
       "      <th></th>\n",
       "      <th></th>\n",
       "      <th></th>\n",
       "      <th></th>\n",
       "      <th></th>\n",
       "    </tr>\n",
       "  </thead>\n",
       "  <tbody>\n",
       "    <tr>\n",
       "      <th>9e1b9eda-4d37-4e9a-997c-9b6ca26583b8</th>\n",
       "      <td>2</td>\n",
       "      <td>90</td>\n",
       "      <td>10687</td>\n",
       "      <td>65</td>\n",
       "      <td>1</td>\n",
       "      <td>0</td>\n",
       "      <td>True</td>\n",
       "    </tr>\n",
       "    <tr>\n",
       "      <th>5b6c7993-b276-4783-8fef-b5489347905e</th>\n",
       "      <td>2</td>\n",
       "      <td>1500</td>\n",
       "      <td>16516</td>\n",
       "      <td>20</td>\n",
       "      <td>0</td>\n",
       "      <td>0</td>\n",
       "      <td>False</td>\n",
       "    </tr>\n",
       "    <tr>\n",
       "      <th>da82bce8-9d0c-4396-9e58-d5cc9fd1947b</th>\n",
       "      <td>2</td>\n",
       "      <td>200</td>\n",
       "      <td>10687</td>\n",
       "      <td>55</td>\n",
       "      <td>1</td>\n",
       "      <td>0</td>\n",
       "      <td>True</td>\n",
       "    </tr>\n",
       "    <tr>\n",
       "      <th>8cbe19b2-ed62-41e4-9ea2-80c5d22d7634</th>\n",
       "      <td>2</td>\n",
       "      <td>250</td>\n",
       "      <td>10687</td>\n",
       "      <td>53</td>\n",
       "      <td>1</td>\n",
       "      <td>0</td>\n",
       "      <td>True</td>\n",
       "    </tr>\n",
       "    <tr>\n",
       "      <th>d0472cb3-370c-44aa-82e5-2c3ab324ffe4</th>\n",
       "      <td>2</td>\n",
       "      <td>250</td>\n",
       "      <td>10687</td>\n",
       "      <td>53</td>\n",
       "      <td>1</td>\n",
       "      <td>0</td>\n",
       "      <td>True</td>\n",
       "    </tr>\n",
       "  </tbody>\n",
       "</table>\n",
       "</div>"
      ],
      "text/plain": [
       "                                      JobStateId  Allocation  QuotaTokens  \\\n",
       "JobId                                                                       \n",
       "9e1b9eda-4d37-4e9a-997c-9b6ca26583b8           2          90        10687   \n",
       "5b6c7993-b276-4783-8fef-b5489347905e           2        1500        16516   \n",
       "da82bce8-9d0c-4396-9e58-d5cc9fd1947b           2         200        10687   \n",
       "8cbe19b2-ed62-41e4-9ea2-80c5d22d7634           2         250        10687   \n",
       "d0472cb3-370c-44aa-82e5-2c3ab324ffe4           2         250        10687   \n",
       "\n",
       "                                      JobPriority  YieldScopePriority_X  \\\n",
       "JobId                                                                     \n",
       "9e1b9eda-4d37-4e9a-997c-9b6ca26583b8           65                     1   \n",
       "5b6c7993-b276-4783-8fef-b5489347905e           20                     0   \n",
       "da82bce8-9d0c-4396-9e58-d5cc9fd1947b           55                     1   \n",
       "8cbe19b2-ed62-41e4-9ea2-80c5d22d7634           53                     1   \n",
       "d0472cb3-370c-44aa-82e5-2c3ab324ffe4           53                     1   \n",
       "\n",
       "                                      YieldScopePriority_Y  isExceedSLA  \n",
       "JobId                                                                    \n",
       "9e1b9eda-4d37-4e9a-997c-9b6ca26583b8                     0         True  \n",
       "5b6c7993-b276-4783-8fef-b5489347905e                     0        False  \n",
       "da82bce8-9d0c-4396-9e58-d5cc9fd1947b                     0         True  \n",
       "8cbe19b2-ed62-41e4-9ea2-80c5d22d7634                     0         True  \n",
       "d0472cb3-370c-44aa-82e5-2c3ab324ffe4                     0         True  "
      ]
     },
     "execution_count": 596,
     "metadata": {},
     "output_type": "execute_result"
    }
   ],
   "source": [
    "data_df['isExceedSLA']=0\n",
    "data_df['isExceedSLA']=pd.isnull(data_df['SLA'])\n",
    "data_df=data_df.drop(['SLA'],axis=1)\n",
    "data_df.head()"
   ]
  },
  {
   "cell_type": "code",
   "execution_count": 597,
   "id": "f0e4e51e",
   "metadata": {},
   "outputs": [],
   "source": [
    "train_df,test_df = np.split(data_df.sample(frac=1), [int(.5*len(data_df))])"
   ]
  },
  {
   "cell_type": "code",
   "execution_count": 598,
   "id": "608c1b13",
   "metadata": {},
   "outputs": [],
   "source": [
    "y_train = train_df.pop('JobPriority')\n",
    "y_train_db = np.log1p(y_train)\n",
    "y_test = test_df.pop('JobPriority')\n",
    "y_test_db=np.log1p(y_test)\n",
    "#y_all = pd.concat((y_train,y_test), axis=0)\n",
    "#y_validate = np.log1p(validate_df.pop('JobPriority'))"
   ]
  },
  {
   "cell_type": "markdown",
   "id": "02a4ba4e",
   "metadata": {},
   "source": [
    "## 训练集，测试集\n",
    "train_df test_df,\n",
    "\n",
    "y_train y_test "
   ]
  },
  {
   "cell_type": "code",
   "execution_count": 599,
   "id": "52632bd7",
   "metadata": {},
   "outputs": [],
   "source": [
    "all_df = pd.concat((train_df, test_df), axis=0)"
   ]
  },
  {
   "cell_type": "code",
   "execution_count": 600,
   "id": "2aeb694f",
   "metadata": {},
   "outputs": [],
   "source": [
    "#y_train.shape"
   ]
  },
  {
   "cell_type": "markdown",
   "id": "f084ef7b",
   "metadata": {},
   "source": [
    "## 变量转换"
   ]
  },
  {
   "cell_type": "code",
   "execution_count": 601,
   "id": "df8bf5b1",
   "metadata": {},
   "outputs": [
    {
     "name": "stdout",
     "output_type": "stream",
     "text": [
      "<class 'pandas.core.frame.DataFrame'>\n",
      "Index: 2000 entries, 3f32df38-ee11-428c-89a0-ea268184dca9 to 0cdd4720-4ad4-4dc8-9b21-8f5f7ca541a3\n",
      "Data columns (total 6 columns):\n",
      " #   Column                Non-Null Count  Dtype\n",
      "---  ------                --------------  -----\n",
      " 0   JobStateId            2000 non-null   int64\n",
      " 1   Allocation            2000 non-null   int64\n",
      " 2   QuotaTokens           2000 non-null   int64\n",
      " 3   YieldScopePriority_X  2000 non-null   int64\n",
      " 4   YieldScopePriority_Y  2000 non-null   int64\n",
      " 5   isExceedSLA           2000 non-null   bool \n",
      "dtypes: bool(1), int64(5)\n",
      "memory usage: 95.7+ KB\n"
     ]
    }
   ],
   "source": [
    "all_df.info()"
   ]
  },
  {
   "cell_type": "code",
   "execution_count": 602,
   "id": "da705d04",
   "metadata": {},
   "outputs": [],
   "source": [
    "all_df[['JobStateId','YieldScopePriority_X','YieldScopePriority_Y','isExceedSLA']] = all_df[['JobStateId','YieldScopePriority_X','YieldScopePriority_Y','isExceedSLA']].astype(str)"
   ]
  },
  {
   "cell_type": "code",
   "execution_count": 603,
   "id": "a8d5e2b0",
   "metadata": {},
   "outputs": [
    {
     "name": "stdout",
     "output_type": "stream",
     "text": [
      "<class 'pandas.core.frame.DataFrame'>\n",
      "Index: 2000 entries, 3f32df38-ee11-428c-89a0-ea268184dca9 to 0cdd4720-4ad4-4dc8-9b21-8f5f7ca541a3\n",
      "Data columns (total 6 columns):\n",
      " #   Column                Non-Null Count  Dtype \n",
      "---  ------                --------------  ----- \n",
      " 0   JobStateId            2000 non-null   object\n",
      " 1   Allocation            2000 non-null   int64 \n",
      " 2   QuotaTokens           2000 non-null   int64 \n",
      " 3   YieldScopePriority_X  2000 non-null   object\n",
      " 4   YieldScopePriority_Y  2000 non-null   object\n",
      " 5   isExceedSLA           2000 non-null   object\n",
      "dtypes: int64(2), object(4)\n",
      "memory usage: 109.4+ KB\n"
     ]
    }
   ],
   "source": [
    "all_df.info()"
   ]
  },
  {
   "cell_type": "code",
   "execution_count": 604,
   "id": "b9b2e2ff",
   "metadata": {},
   "outputs": [
    {
     "data": {
      "text/plain": [
       "isExceedSLA\n",
       "True           1147\n",
       "False           853\n",
       "dtype: int64"
      ]
     },
     "execution_count": 604,
     "metadata": {},
     "output_type": "execute_result"
    }
   ],
   "source": [
    "all_df[['isExceedSLA']].value_counts()"
   ]
  },
  {
   "cell_type": "code",
   "execution_count": 605,
   "id": "4e72530b",
   "metadata": {},
   "outputs": [
    {
     "data": {
      "text/plain": [
       "JobStateId\n",
       "2             1957\n",
       "3               32\n",
       "4               11\n",
       "dtype: int64"
      ]
     },
     "execution_count": 605,
     "metadata": {},
     "output_type": "execute_result"
    }
   ],
   "source": [
    "all_df[['JobStateId']].value_counts()"
   ]
  },
  {
   "cell_type": "markdown",
   "id": "e8cb6df6",
   "metadata": {},
   "source": [
    "这里的数据不是特别好，job state只有三种"
   ]
  },
  {
   "cell_type": "code",
   "execution_count": 606,
   "id": "9317927d",
   "metadata": {},
   "outputs": [
    {
     "data": {
      "text/plain": [
       "YieldScopePriority_X\n",
       "1                       1539\n",
       "0                        389\n",
       "2                         72\n",
       "dtype: int64"
      ]
     },
     "execution_count": 606,
     "metadata": {},
     "output_type": "execute_result"
    }
   ],
   "source": [
    "all_df[['YieldScopePriority_X']].value_counts()"
   ]
  },
  {
   "cell_type": "code",
   "execution_count": 607,
   "id": "4a98dd6b",
   "metadata": {},
   "outputs": [
    {
     "data": {
      "text/plain": [
       "YieldScopePriority_Y\n",
       "0                       1747\n",
       "10                       178\n",
       "1                         74\n",
       "5                          1\n",
       "dtype: int64"
      ]
     },
     "execution_count": 607,
     "metadata": {},
     "output_type": "execute_result"
    }
   ],
   "source": [
    "all_df[['YieldScopePriority_Y']].value_counts()"
   ]
  },
  {
   "cell_type": "markdown",
   "id": "a6d723a4",
   "metadata": {},
   "source": [
    "pd.get_dummies(all_df['JobStateId'], prefix='JobStateId').head()"
   ]
  },
  {
   "cell_type": "code",
   "execution_count": 608,
   "id": "dfd8fc32",
   "metadata": {},
   "outputs": [
    {
     "data": {
      "text/html": [
       "<div>\n",
       "<style scoped>\n",
       "    .dataframe tbody tr th:only-of-type {\n",
       "        vertical-align: middle;\n",
       "    }\n",
       "\n",
       "    .dataframe tbody tr th {\n",
       "        vertical-align: top;\n",
       "    }\n",
       "\n",
       "    .dataframe thead th {\n",
       "        text-align: right;\n",
       "    }\n",
       "</style>\n",
       "<table border=\"1\" class=\"dataframe\">\n",
       "  <thead>\n",
       "    <tr style=\"text-align: right;\">\n",
       "      <th></th>\n",
       "      <th>Allocation</th>\n",
       "      <th>QuotaTokens</th>\n",
       "      <th>JobStateId_2</th>\n",
       "      <th>JobStateId_3</th>\n",
       "      <th>JobStateId_4</th>\n",
       "      <th>YieldScopePriority_X_0</th>\n",
       "      <th>YieldScopePriority_X_1</th>\n",
       "      <th>YieldScopePriority_X_2</th>\n",
       "      <th>YieldScopePriority_Y_0</th>\n",
       "      <th>YieldScopePriority_Y_1</th>\n",
       "      <th>YieldScopePriority_Y_10</th>\n",
       "      <th>YieldScopePriority_Y_5</th>\n",
       "      <th>isExceedSLA_False</th>\n",
       "      <th>isExceedSLA_True</th>\n",
       "    </tr>\n",
       "    <tr>\n",
       "      <th>JobId</th>\n",
       "      <th></th>\n",
       "      <th></th>\n",
       "      <th></th>\n",
       "      <th></th>\n",
       "      <th></th>\n",
       "      <th></th>\n",
       "      <th></th>\n",
       "      <th></th>\n",
       "      <th></th>\n",
       "      <th></th>\n",
       "      <th></th>\n",
       "      <th></th>\n",
       "      <th></th>\n",
       "      <th></th>\n",
       "    </tr>\n",
       "  </thead>\n",
       "  <tbody>\n",
       "    <tr>\n",
       "      <th>3f32df38-ee11-428c-89a0-ea268184dca9</th>\n",
       "      <td>120</td>\n",
       "      <td>10687</td>\n",
       "      <td>1</td>\n",
       "      <td>0</td>\n",
       "      <td>0</td>\n",
       "      <td>0</td>\n",
       "      <td>1</td>\n",
       "      <td>0</td>\n",
       "      <td>1</td>\n",
       "      <td>0</td>\n",
       "      <td>0</td>\n",
       "      <td>0</td>\n",
       "      <td>0</td>\n",
       "      <td>1</td>\n",
       "    </tr>\n",
       "    <tr>\n",
       "      <th>a0a370a4-a990-4d55-b767-cd5a24b842f2</th>\n",
       "      <td>1500</td>\n",
       "      <td>16516</td>\n",
       "      <td>1</td>\n",
       "      <td>0</td>\n",
       "      <td>0</td>\n",
       "      <td>1</td>\n",
       "      <td>0</td>\n",
       "      <td>0</td>\n",
       "      <td>1</td>\n",
       "      <td>0</td>\n",
       "      <td>0</td>\n",
       "      <td>0</td>\n",
       "      <td>1</td>\n",
       "      <td>0</td>\n",
       "    </tr>\n",
       "    <tr>\n",
       "      <th>a87537d9-e5e6-4629-b7d9-31e7dbccde37</th>\n",
       "      <td>50</td>\n",
       "      <td>10687</td>\n",
       "      <td>1</td>\n",
       "      <td>0</td>\n",
       "      <td>0</td>\n",
       "      <td>0</td>\n",
       "      <td>1</td>\n",
       "      <td>0</td>\n",
       "      <td>1</td>\n",
       "      <td>0</td>\n",
       "      <td>0</td>\n",
       "      <td>0</td>\n",
       "      <td>0</td>\n",
       "      <td>1</td>\n",
       "    </tr>\n",
       "    <tr>\n",
       "      <th>5e682796-4920-440c-a7cf-5dc2f52a64e1</th>\n",
       "      <td>5000</td>\n",
       "      <td>16516</td>\n",
       "      <td>1</td>\n",
       "      <td>0</td>\n",
       "      <td>0</td>\n",
       "      <td>1</td>\n",
       "      <td>0</td>\n",
       "      <td>0</td>\n",
       "      <td>1</td>\n",
       "      <td>0</td>\n",
       "      <td>0</td>\n",
       "      <td>0</td>\n",
       "      <td>1</td>\n",
       "      <td>0</td>\n",
       "    </tr>\n",
       "    <tr>\n",
       "      <th>85b469f5-c0bc-4385-9b01-acf501d8b052</th>\n",
       "      <td>250</td>\n",
       "      <td>10687</td>\n",
       "      <td>1</td>\n",
       "      <td>0</td>\n",
       "      <td>0</td>\n",
       "      <td>0</td>\n",
       "      <td>1</td>\n",
       "      <td>0</td>\n",
       "      <td>1</td>\n",
       "      <td>0</td>\n",
       "      <td>0</td>\n",
       "      <td>0</td>\n",
       "      <td>0</td>\n",
       "      <td>1</td>\n",
       "    </tr>\n",
       "  </tbody>\n",
       "</table>\n",
       "</div>"
      ],
      "text/plain": [
       "                                      Allocation  QuotaTokens  JobStateId_2  \\\n",
       "JobId                                                                         \n",
       "3f32df38-ee11-428c-89a0-ea268184dca9         120        10687             1   \n",
       "a0a370a4-a990-4d55-b767-cd5a24b842f2        1500        16516             1   \n",
       "a87537d9-e5e6-4629-b7d9-31e7dbccde37          50        10687             1   \n",
       "5e682796-4920-440c-a7cf-5dc2f52a64e1        5000        16516             1   \n",
       "85b469f5-c0bc-4385-9b01-acf501d8b052         250        10687             1   \n",
       "\n",
       "                                      JobStateId_3  JobStateId_4  \\\n",
       "JobId                                                              \n",
       "3f32df38-ee11-428c-89a0-ea268184dca9             0             0   \n",
       "a0a370a4-a990-4d55-b767-cd5a24b842f2             0             0   \n",
       "a87537d9-e5e6-4629-b7d9-31e7dbccde37             0             0   \n",
       "5e682796-4920-440c-a7cf-5dc2f52a64e1             0             0   \n",
       "85b469f5-c0bc-4385-9b01-acf501d8b052             0             0   \n",
       "\n",
       "                                      YieldScopePriority_X_0  \\\n",
       "JobId                                                          \n",
       "3f32df38-ee11-428c-89a0-ea268184dca9                       0   \n",
       "a0a370a4-a990-4d55-b767-cd5a24b842f2                       1   \n",
       "a87537d9-e5e6-4629-b7d9-31e7dbccde37                       0   \n",
       "5e682796-4920-440c-a7cf-5dc2f52a64e1                       1   \n",
       "85b469f5-c0bc-4385-9b01-acf501d8b052                       0   \n",
       "\n",
       "                                      YieldScopePriority_X_1  \\\n",
       "JobId                                                          \n",
       "3f32df38-ee11-428c-89a0-ea268184dca9                       1   \n",
       "a0a370a4-a990-4d55-b767-cd5a24b842f2                       0   \n",
       "a87537d9-e5e6-4629-b7d9-31e7dbccde37                       1   \n",
       "5e682796-4920-440c-a7cf-5dc2f52a64e1                       0   \n",
       "85b469f5-c0bc-4385-9b01-acf501d8b052                       1   \n",
       "\n",
       "                                      YieldScopePriority_X_2  \\\n",
       "JobId                                                          \n",
       "3f32df38-ee11-428c-89a0-ea268184dca9                       0   \n",
       "a0a370a4-a990-4d55-b767-cd5a24b842f2                       0   \n",
       "a87537d9-e5e6-4629-b7d9-31e7dbccde37                       0   \n",
       "5e682796-4920-440c-a7cf-5dc2f52a64e1                       0   \n",
       "85b469f5-c0bc-4385-9b01-acf501d8b052                       0   \n",
       "\n",
       "                                      YieldScopePriority_Y_0  \\\n",
       "JobId                                                          \n",
       "3f32df38-ee11-428c-89a0-ea268184dca9                       1   \n",
       "a0a370a4-a990-4d55-b767-cd5a24b842f2                       1   \n",
       "a87537d9-e5e6-4629-b7d9-31e7dbccde37                       1   \n",
       "5e682796-4920-440c-a7cf-5dc2f52a64e1                       1   \n",
       "85b469f5-c0bc-4385-9b01-acf501d8b052                       1   \n",
       "\n",
       "                                      YieldScopePriority_Y_1  \\\n",
       "JobId                                                          \n",
       "3f32df38-ee11-428c-89a0-ea268184dca9                       0   \n",
       "a0a370a4-a990-4d55-b767-cd5a24b842f2                       0   \n",
       "a87537d9-e5e6-4629-b7d9-31e7dbccde37                       0   \n",
       "5e682796-4920-440c-a7cf-5dc2f52a64e1                       0   \n",
       "85b469f5-c0bc-4385-9b01-acf501d8b052                       0   \n",
       "\n",
       "                                      YieldScopePriority_Y_10  \\\n",
       "JobId                                                           \n",
       "3f32df38-ee11-428c-89a0-ea268184dca9                        0   \n",
       "a0a370a4-a990-4d55-b767-cd5a24b842f2                        0   \n",
       "a87537d9-e5e6-4629-b7d9-31e7dbccde37                        0   \n",
       "5e682796-4920-440c-a7cf-5dc2f52a64e1                        0   \n",
       "85b469f5-c0bc-4385-9b01-acf501d8b052                        0   \n",
       "\n",
       "                                      YieldScopePriority_Y_5  \\\n",
       "JobId                                                          \n",
       "3f32df38-ee11-428c-89a0-ea268184dca9                       0   \n",
       "a0a370a4-a990-4d55-b767-cd5a24b842f2                       0   \n",
       "a87537d9-e5e6-4629-b7d9-31e7dbccde37                       0   \n",
       "5e682796-4920-440c-a7cf-5dc2f52a64e1                       0   \n",
       "85b469f5-c0bc-4385-9b01-acf501d8b052                       0   \n",
       "\n",
       "                                      isExceedSLA_False  isExceedSLA_True  \n",
       "JobId                                                                      \n",
       "3f32df38-ee11-428c-89a0-ea268184dca9                  0                 1  \n",
       "a0a370a4-a990-4d55-b767-cd5a24b842f2                  1                 0  \n",
       "a87537d9-e5e6-4629-b7d9-31e7dbccde37                  0                 1  \n",
       "5e682796-4920-440c-a7cf-5dc2f52a64e1                  1                 0  \n",
       "85b469f5-c0bc-4385-9b01-acf501d8b052                  0                 1  "
      ]
     },
     "execution_count": 608,
     "metadata": {},
     "output_type": "execute_result"
    }
   ],
   "source": [
    "all_dummy_df = pd.get_dummies(all_df)\n",
    "all_dummy_df.head()"
   ]
  },
  {
   "cell_type": "code",
   "execution_count": 609,
   "id": "4a8b7724",
   "metadata": {},
   "outputs": [
    {
     "name": "stdout",
     "output_type": "stream",
     "text": [
      "<class 'pandas.core.frame.DataFrame'>\n",
      "Index: 2000 entries, 3f32df38-ee11-428c-89a0-ea268184dca9 to 0cdd4720-4ad4-4dc8-9b21-8f5f7ca541a3\n",
      "Data columns (total 14 columns):\n",
      " #   Column                   Non-Null Count  Dtype\n",
      "---  ------                   --------------  -----\n",
      " 0   Allocation               2000 non-null   int64\n",
      " 1   QuotaTokens              2000 non-null   int64\n",
      " 2   JobStateId_2             2000 non-null   uint8\n",
      " 3   JobStateId_3             2000 non-null   uint8\n",
      " 4   JobStateId_4             2000 non-null   uint8\n",
      " 5   YieldScopePriority_X_0   2000 non-null   uint8\n",
      " 6   YieldScopePriority_X_1   2000 non-null   uint8\n",
      " 7   YieldScopePriority_X_2   2000 non-null   uint8\n",
      " 8   YieldScopePriority_Y_0   2000 non-null   uint8\n",
      " 9   YieldScopePriority_Y_1   2000 non-null   uint8\n",
      " 10  YieldScopePriority_Y_10  2000 non-null   uint8\n",
      " 11  YieldScopePriority_Y_5   2000 non-null   uint8\n",
      " 12  isExceedSLA_False        2000 non-null   uint8\n",
      " 13  isExceedSLA_True         2000 non-null   uint8\n",
      "dtypes: int64(2), uint8(12)\n",
      "memory usage: 70.3+ KB\n"
     ]
    }
   ],
   "source": [
    "all_dummy_df.info()"
   ]
  },
  {
   "cell_type": "markdown",
   "id": "144ec3d0",
   "metadata": {},
   "source": [
    "## 标准化numerical数据"
   ]
  },
  {
   "cell_type": "code",
   "execution_count": 610,
   "id": "4d92f8cc",
   "metadata": {},
   "outputs": [],
   "source": [
    "numeric_cols = all_df.columns[all_df.dtypes != 'object']"
   ]
  },
  {
   "cell_type": "code",
   "execution_count": 611,
   "id": "6f76353f",
   "metadata": {},
   "outputs": [
    {
     "data": {
      "text/plain": [
       "Index(['Allocation', 'QuotaTokens'], dtype='object')"
      ]
     },
     "execution_count": 611,
     "metadata": {},
     "output_type": "execute_result"
    }
   ],
   "source": [
    "numeric_cols"
   ]
  },
  {
   "cell_type": "markdown",
   "id": "8dae8b61",
   "metadata": {},
   "source": [
    "计算标准分布：(X-X')/s\n",
    "\n",
    "对所有numerical的数据作z-score平滑"
   ]
  },
  {
   "cell_type": "code",
   "execution_count": 612,
   "id": "ac4b7763",
   "metadata": {},
   "outputs": [],
   "source": [
    "numeric_col_means = all_dummy_df.loc[:, numeric_cols].mean()\n",
    "numeric_col_std = all_dummy_df.loc[:, numeric_cols].std()\n",
    "all_dummy_df.loc[:, numeric_cols] = (all_dummy_df.loc[:, numeric_cols] - numeric_col_means) / numeric_col_std"
   ]
  },
  {
   "cell_type": "markdown",
   "id": "c338d353",
   "metadata": {},
   "source": [
    "# 建模"
   ]
  },
  {
   "cell_type": "code",
   "execution_count": 613,
   "id": "a2578b52",
   "metadata": {},
   "outputs": [],
   "source": [
    "dummy_train_df = all_dummy_df.loc[train_df.index]\n",
    "#dummy_validate_df=all_dummy_df.loc[validate_df.index]\n",
    "dummy_test_df = all_dummy_df.loc[test_df.index]"
   ]
  },
  {
   "cell_type": "code",
   "execution_count": 614,
   "id": "13ba3764",
   "metadata": {},
   "outputs": [
    {
     "data": {
      "text/plain": [
       "((1000, 14), (1000, 14))"
      ]
     },
     "execution_count": 614,
     "metadata": {},
     "output_type": "execute_result"
    }
   ],
   "source": [
    "dummy_train_df.shape, dummy_test_df.shape\n",
    "#dummy_validate_df.shape,"
   ]
  },
  {
   "cell_type": "code",
   "execution_count": 615,
   "id": "807975b2",
   "metadata": {},
   "outputs": [],
   "source": [
    "X_train = dummy_train_df.values\n",
    "X_test = dummy_test_df.values"
   ]
  },
  {
   "cell_type": "code",
   "execution_count": 616,
   "id": "7872f6c6",
   "metadata": {},
   "outputs": [],
   "source": [
    "from sklearn import linear_model"
   ]
  },
  {
   "cell_type": "markdown",
   "id": "307da1c3",
   "metadata": {},
   "source": [
    "## Linear Regression"
   ]
  },
  {
   "cell_type": "code",
   "execution_count": 617,
   "id": "41ecd2f2",
   "metadata": {},
   "outputs": [
    {
     "data": {
      "text/plain": [
       "0.2586976000092792"
      ]
     },
     "execution_count": 617,
     "metadata": {},
     "output_type": "execute_result"
    }
   ],
   "source": [
    "clf1=linear_model.LinearRegression()\n",
    "test_score = np.sqrt(-cross_val_score(clf1, X_train, y_train_db, cv=10, scoring='neg_mean_squared_error'))\n",
    "SqrtMSE = np.mean(test_score)\n",
    "SqrtMSE"
   ]
  },
  {
   "cell_type": "markdown",
   "id": "80801701",
   "metadata": {},
   "source": [
    "## Lasso Regression"
   ]
  },
  {
   "cell_type": "code",
   "execution_count": 618,
   "id": "0dc16cac",
   "metadata": {},
   "outputs": [],
   "source": [
    "alphas = np.logspace(-3, 2, 50)\n",
    "# 1e-3到1e2之间有50个数\n",
    "test_scores = []\n",
    "for alpha in alphas:\n",
    "    clf2 = linear_model.Lasso(alpha)\n",
    "    #均方根\n",
    "    test_score = np.sqrt(-cross_val_score(clf2, X_train, y_train_db, cv=10, scoring='neg_mean_squared_error'))\n",
    "    test_scores.append(np.mean(test_score))"
   ]
  },
  {
   "cell_type": "code",
   "execution_count": 619,
   "id": "8506ca13",
   "metadata": {},
   "outputs": [
    {
     "data": {
      "text/plain": [
       "Text(0, 0.5, 'MSE')"
      ]
     },
     "execution_count": 619,
     "metadata": {},
     "output_type": "execute_result"
    },
    {
     "data": {
      "image/png": "[encoded data removed]",
      "text/plain": [
       "<Figure size 432x288 with 1 Axes>"
      ]
     },
     "metadata": {
      "needs_background": "light"
     },
     "output_type": "display_data"
    }
   ],
   "source": [
    "import matplotlib.pyplot as plt\n",
    "%matplotlib inline\n",
    "plt.plot(alphas, test_scores)\n",
    "plt.title(\"norm-1 as regularization\");\n",
    "plt.xlabel(\"alpha\")\n",
    "plt.ylabel(\"MSE\")"
   ]
  },
  {
   "cell_type": "markdown",
   "id": "011d9d9a",
   "metadata": {},
   "source": [
    "## Ridge Regression\n"
   ]
  },
  {
   "cell_type": "code",
   "execution_count": 620,
   "id": "edd33eb2",
   "metadata": {},
   "outputs": [],
   "source": [
    "import sklearn.linear_model\n",
    "from sklearn.model_selection import cross_val_score"
   ]
  },
  {
   "cell_type": "code",
   "execution_count": 621,
   "id": "6b4470ce",
   "metadata": {},
   "outputs": [],
   "source": [
    "alphas = np.logspace(-3, 2, 50)\n",
    "# 1e-3到1e2之间有50个数\n",
    "test_scores = []\n",
    "for alpha in alphas:\n",
    "    clf3 = linear_model.Ridge(alpha)\n",
    "    #clf是ridge类型\n",
    "    test_score = np.sqrt(-cross_val_score(clf3, X_train, y_train_db, cv=10, scoring='neg_mean_squared_error'))\n",
    "    test_scores.append(np.mean(test_score))"
   ]
  },
  {
   "cell_type": "code",
   "execution_count": 622,
   "id": "c0ffbbaf",
   "metadata": {},
   "outputs": [
    {
     "data": {
      "text/plain": [
       "Text(0, 0.5, 'MSE')"
      ]
     },
     "execution_count": 622,
     "metadata": {},
     "output_type": "execute_result"
    },
    {
     "data": {
      "image/png": "[encoded data removed]",
      "text/plain": [
       "<Figure size 432x288 with 1 Axes>"
      ]
     },
     "metadata": {
      "needs_background": "light"
     },
     "output_type": "display_data"
    }
   ],
   "source": [
    "import matplotlib.pyplot as plt\n",
    "%matplotlib inline\n",
    "plt.plot(alphas, test_scores)\n",
    "plt.title(\"norm-2 as regularization\");\n",
    "plt.xlabel(\"alpha\")\n",
    "plt.ylabel(\"MSE\")"
   ]
  },
  {
   "cell_type": "markdown",
   "id": "e89f7746",
   "metadata": {},
   "source": [
    "alpha 大约等于4的时候结果比较好"
   ]
  },
  {
   "cell_type": "code",
   "execution_count": 664,
   "id": "7f76177f",
   "metadata": {},
   "outputs": [],
   "source": [
    "clf3 = linear_model.Ridge(alpha=4)\n",
    "clf3.fit(X_test, y_test_db)\n",
    "pre = clf3.predict(X_test)"
   ]
  },
  {
   "cell_type": "code",
   "execution_count": 665,
   "id": "a93c2bf4",
   "metadata": {},
   "outputs": [
    {
     "data": {
      "text/plain": [
       "(0.3063489540649935, 3.9169815462130737)"
      ]
     },
     "execution_count": 665,
     "metadata": {},
     "output_type": "execute_result"
    }
   ],
   "source": [
    "from sklearn.metrics import mean_squared_error\n",
    "pre=clf3.predict(X_test)\n",
    "np.sqrt(mean_squared_error(pre,y_test_db)),np.mean(y_test_db)"
   ]
  },
  {
   "cell_type": "markdown",
   "id": "725970cf",
   "metadata": {},
   "source": [
    "## Random Forest"
   ]
  },
  {
   "cell_type": "code",
   "execution_count": 623,
   "id": "6e1e093f",
   "metadata": {},
   "outputs": [],
   "source": [
    "from sklearn.ensemble import RandomForestRegressor"
   ]
  },
  {
   "cell_type": "markdown",
   "id": "f9b421ce",
   "metadata": {},
   "source": [
    "#### 对n_estimators进行调优"
   ]
  },
  {
   "cell_type": "code",
   "execution_count": 624,
   "id": "a66021e7",
   "metadata": {},
   "outputs": [],
   "source": [
    "n_estimators = range(1,401,20)\n",
    "test_scores = []\n",
    "for n_estimator in n_estimators:\n",
    "    clf = RandomForestRegressor(n_estimators=n_estimator, max_features=.3, random_state=10)\n",
    "    test_score = np.sqrt(-cross_val_score(clf, X_train, y_train_db, cv=10, scoring='neg_mean_squared_error'))\n",
    "    test_scores.append(np.mean(test_score))"
   ]
  },
  {
   "cell_type": "code",
   "execution_count": 625,
   "id": "1b0b0350",
   "metadata": {},
   "outputs": [
    {
     "data": {
      "image/png": "[encoded data removed]",
      "text/plain": [
       "<Figure size 432x288 with 1 Axes>"
      ]
     },
     "metadata": {
      "needs_background": "light"
     },
     "output_type": "display_data"
    }
   ],
   "source": [
    "plt.plot(n_estimators, test_scores)\n",
    "plt.title(\"n_estimators vs CV Error\");"
   ]
  },
  {
   "cell_type": "markdown",
   "id": "ed693ad6",
   "metadata": {},
   "source": [
    "#### 对max_features进行调优"
   ]
  },
  {
   "cell_type": "code",
   "execution_count": 643,
   "id": "2408d4b2",
   "metadata": {},
   "outputs": [],
   "source": [
    "max_features = [.1, .3, .5, .7, .9, .99]\n",
    "test_scores = []\n",
    "for max_feat in max_features:\n",
    "    clf = RandomForestRegressor(n_estimators=220, max_features=max_feat, random_state=15)\n",
    "    test_score = np.sqrt(-cross_val_score(clf, X_train, y_train_db, cv=10, scoring='neg_mean_squared_error'))\n",
    "    test_scores.append(np.mean(test_score))"
   ]
  },
  {
   "cell_type": "code",
   "execution_count": 683,
   "id": "f0e9af4d",
   "metadata": {},
   "outputs": [
    {
     "data": {
      "image/png": "[encoded data removed]",
      "text/plain": [
       "<Figure size 432x288 with 1 Axes>"
      ]
     },
     "metadata": {
      "needs_background": "light"
     },
     "output_type": "display_data"
    }
   ],
   "source": [
    "plt.plot(max_features, test_scores)\n",
    "plt.title(\"max_features vs CV Error\");"
   ]
  },
  {
   "cell_type": "markdown",
   "id": "217167e6",
   "metadata": {},
   "source": [
    "### max_features=0.9,  n_estimators=220 的RF比较好"
   ]
  },
  {
   "cell_type": "code",
   "execution_count": 666,
   "id": "cc670b4d",
   "metadata": {},
   "outputs": [
    {
     "data": {
      "text/plain": [
       "RandomForestRegressor(max_features=0.99, n_estimators=220, oob_score=True,\n",
       "                      random_state=20)"
      ]
     },
     "execution_count": 666,
     "metadata": {},
     "output_type": "execute_result"
    }
   ],
   "source": [
    "clf = RandomForestRegressor(n_estimators=220, max_features=.99, oob_score=True, random_state=20)\n",
    "clf.fit(X_train,y_train_db)"
   ]
  },
  {
   "cell_type": "code",
   "execution_count": 667,
   "id": "bef218c6",
   "metadata": {},
   "outputs": [
    {
     "data": {
      "text/plain": [
       "(0.34926733490221906, 3.9169815462130737)"
      ]
     },
     "execution_count": 667,
     "metadata": {},
     "output_type": "execute_result"
    }
   ],
   "source": [
    "from sklearn.metrics import mean_squared_error\n",
    "pre=clf.predict(X_test)\n",
    "np.sqrt(mean_squared_error(pre,y_test_db)),np.mean(y_test_db)"
   ]
  },
  {
   "cell_type": "markdown",
   "id": "1eb21360",
   "metadata": {},
   "source": [
    "#### 做一个stacking"
   ]
  },
  {
   "cell_type": "code",
   "execution_count": 668,
   "id": "b61c9a10",
   "metadata": {},
   "outputs": [],
   "source": [
    "ridge = Ridge(alpha=4)\n",
    "rf = RandomForestRegressor(n_estimators=300, max_features=.5, random_state=10)"
   ]
  },
  {
   "cell_type": "code",
   "execution_count": 669,
   "id": "933ed8f1",
   "metadata": {},
   "outputs": [
    {
     "data": {
      "text/plain": [
       "RandomForestRegressor(max_features=0.5, n_estimators=300, random_state=10)"
      ]
     },
     "execution_count": 669,
     "metadata": {},
     "output_type": "execute_result"
    }
   ],
   "source": [
    "ridge.fit(X_train, y_train_db)\n",
    "rf.fit(X_train, y_train_db)"
   ]
  },
  {
   "cell_type": "code",
   "execution_count": 673,
   "id": "f7fddd5d",
   "metadata": {},
   "outputs": [],
   "source": [
    "y_ridge_db = ridge.predict(X_test)\n",
    "y_ridge = np.expm1(y_ridge_db)\n",
    "\n",
    "y_rf_db = rf.predict(X_test)\n",
    "y_rf = np.expm1(y_rf_db)"
   ]
  },
  {
   "cell_type": "code",
   "execution_count": 674,
   "id": "107e485e",
   "metadata": {},
   "outputs": [],
   "source": [
    "y_final_db = (y_ridge_db+y_rf_db)/2\n",
    "y_final = (y_ridge + y_rf) / 2\n"
   ]
  },
  {
   "cell_type": "markdown",
   "id": "70d0eb6d",
   "metadata": {},
   "source": [
    "## 泛化误差"
   ]
  },
  {
   "cell_type": "code",
   "execution_count": 678,
   "id": "bd6118ac",
   "metadata": {},
   "outputs": [
    {
     "data": {
      "text/plain": [
       "(0.323440829035351, 3.9169815462130737)"
      ]
     },
     "execution_count": 678,
     "metadata": {},
     "output_type": "execute_result"
    }
   ],
   "source": [
    "#RMSE\n",
    "np.sqrt(mean_squared_error(y_final_db,y_test_db)), np.mean(y_test_db)"
   ]
  },
  {
   "cell_type": "code",
   "execution_count": 680,
   "id": "84bd277b",
   "metadata": {},
   "outputs": [
    {
     "data": {
      "text/plain": [
       "(196.34221689376054, 63.683)"
      ]
     },
     "execution_count": 680,
     "metadata": {},
     "output_type": "execute_result"
    }
   ],
   "source": [
    "np.sqrt(mean_squared_error(y_final,y_test)), np.mean(y_test)"
   ]
  },
  {
   "cell_type": "code",
   "execution_count": null,
   "id": "381105c8",
   "metadata": {},
   "outputs": [],
   "source": [
    "from sklearn.metrics import mean_absolute_error\n",
    "mean_absolute_error(y_final,y_test), np.mean(y_test)"
   ]
  }
 ],
 "metadata": {
  "kernelspec": {
   "display_name": "Python 3",
   "language": "python",
   "name": "python3"
  },
  "language_info": {
   "codemirror_mode": {
    "name": "ipython",
    "version": 3
   },
   "file_extension": ".py",
   "mimetype": "text/x-python",
   "name": "python",
   "nbconvert_exporter": "python",
   "pygments_lexer": "ipython3",
   "version": "3.8.8"
  },
  "varInspector": {
   "cols": {
    "lenName": 16,
    "lenType": 16,
    "lenVar": 40
   },
   "kernels_config": {
    "python": {
     "delete_cmd_postfix": "",
     "delete_cmd_prefix": "del ",
     "library": "var_list.py",
     "varRefreshCmd": "print(var_dic_list())"
    },
    "r": {
     "delete_cmd_postfix": ") ",
     "delete_cmd_prefix": "rm(",
     "library": "var_list.r",
     "varRefreshCmd": "cat(var_dic_list()) "
    }
   },
   "types_to_exclude": [
    "module",
    "function",
    "builtin_function_or_method",
    "instance",
    "_Feature"
   ],
   "window_display": false
  }
 },
 "nbformat": 4,
 "nbformat_minor": 5
}
